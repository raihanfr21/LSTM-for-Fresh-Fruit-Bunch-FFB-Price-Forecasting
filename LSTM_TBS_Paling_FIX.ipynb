{
  "nbformat": 4,
  "nbformat_minor": 0,
  "metadata": {
    "colab": {
      "provenance": []
    },
    "kernelspec": {
      "name": "python3",
      "display_name": "Python 3"
    },
    "language_info": {
      "name": "python"
    }
  },
  "cells": [
    {
      "cell_type": "markdown",
      "metadata": {
        "id": "d8e7a339"
      },
      "source": [
        "## LONG SHORT-TERM MEMORY (LSTM) UNTUK PERAMALAN HARGA TANDAN BUAH SEGAR (TBS)"
      ]
    },
    {
      "cell_type": "markdown",
      "metadata": {
        "id": "d7ccc4f0"
      },
      "source": [
        "**Import Library**"
      ]
    },
    {
      "cell_type": "code",
      "execution_count": null,
      "metadata": {
        "id": "KthoScIN8ZEG"
      },
      "outputs": [],
      "source": [
        "import pandas as pd\n",
        "import numpy as np\n",
        "import seaborn as sns\n",
        "import matplotlib.pyplot as plt\n",
        "from sklearn.preprocessing import MinMaxScaler\n",
        "from sklearn.metrics import mean_squared_error, mean_absolute_error, mean_absolute_percentage_error\n",
        "from tensorflow.keras.models import Sequential\n",
        "from tensorflow.keras.layers import LSTM, Dense"
      ]
    },
    {
      "cell_type": "markdown",
      "metadata": {
        "id": "fdd87d24"
      },
      "source": [
        "**Import Dataset**"
      ]
    },
    {
      "cell_type": "code",
      "source": [
        "from google.colab import drive\n",
        "drive.mount('/content/drive')\n",
        "\n",
        "file_path = '/content/drive/MyDrive/SKRIPSI/harga_tbs.csv'\n",
        "\n",
        "df = pd.read_csv(file_path)\n",
        "df"
      ],
      "metadata": {
        "id": "MvXy-4-v8mTo",
        "colab": {
          "base_uri": "https://localhost:8080/",
          "height": 442
        },
        "outputId": "8e2268f6-99bf-468e-e83e-c8e5727f6ff5"
      },
      "execution_count": null,
      "outputs": [
        {
          "output_type": "stream",
          "name": "stdout",
          "text": [
            "Drive already mounted at /content/drive; to attempt to forcibly remount, call drive.mount(\"/content/drive\", force_remount=True).\n"
          ]
        },
        {
          "output_type": "execute_result",
          "data": {
            "text/plain": [
              "        Tanggal  Harga_CPO Harga_Kernel  Indeks_K Harga_TBS\n",
              "0      1/1/2014   8,751.71     5,537.80     88.82  1,950.93\n",
              "1      8/1/2014   8,858.36     5,614.35     88.51  1,968.08\n",
              "2    15/01/2014   8,715.29     5,585.42     88.25  1,933.36\n",
              "3    22/01/2014   8,630.70     5,626.46     88.82  1,931.47\n",
              "4    29/01/2014   8,833.28     5,769.18     88.57  1,971.65\n",
              "..          ...        ...          ...       ...       ...\n",
              "552  27/11/2024  15,152.24    11,211.55     92.84  3,668.47\n",
              "553   4/12/2024  15,293.38    11,458.24     92.84  3,709.19\n",
              "554  11/12/2024  15,774.13    11,794.66     92.84  3,824.03\n",
              "555  18/12/2024  15,639.51    11,866.30     93.30  3,819.14\n",
              "556  25/12/2024  15,156.28    11,456.75     93.30  3,699.75\n",
              "\n",
              "[557 rows x 5 columns]"
            ],
            "text/html": [
              "\n",
              "  <div id=\"df-af58bb1a-fc20-4a1c-9d23-50f83622433a\" class=\"colab-df-container\">\n",
              "    <div>\n",
              "<style scoped>\n",
              "    .dataframe tbody tr th:only-of-type {\n",
              "        vertical-align: middle;\n",
              "    }\n",
              "\n",
              "    .dataframe tbody tr th {\n",
              "        vertical-align: top;\n",
              "    }\n",
              "\n",
              "    .dataframe thead th {\n",
              "        text-align: right;\n",
              "    }\n",
              "</style>\n",
              "<table border=\"1\" class=\"dataframe\">\n",
              "  <thead>\n",
              "    <tr style=\"text-align: right;\">\n",
              "      <th></th>\n",
              "      <th>Tanggal</th>\n",
              "      <th>Harga_CPO</th>\n",
              "      <th>Harga_Kernel</th>\n",
              "      <th>Indeks_K</th>\n",
              "      <th>Harga_TBS</th>\n",
              "    </tr>\n",
              "  </thead>\n",
              "  <tbody>\n",
              "    <tr>\n",
              "      <th>0</th>\n",
              "      <td>1/1/2014</td>\n",
              "      <td>8,751.71</td>\n",
              "      <td>5,537.80</td>\n",
              "      <td>88.82</td>\n",
              "      <td>1,950.93</td>\n",
              "    </tr>\n",
              "    <tr>\n",
              "      <th>1</th>\n",
              "      <td>8/1/2014</td>\n",
              "      <td>8,858.36</td>\n",
              "      <td>5,614.35</td>\n",
              "      <td>88.51</td>\n",
              "      <td>1,968.08</td>\n",
              "    </tr>\n",
              "    <tr>\n",
              "      <th>2</th>\n",
              "      <td>15/01/2014</td>\n",
              "      <td>8,715.29</td>\n",
              "      <td>5,585.42</td>\n",
              "      <td>88.25</td>\n",
              "      <td>1,933.36</td>\n",
              "    </tr>\n",
              "    <tr>\n",
              "      <th>3</th>\n",
              "      <td>22/01/2014</td>\n",
              "      <td>8,630.70</td>\n",
              "      <td>5,626.46</td>\n",
              "      <td>88.82</td>\n",
              "      <td>1,931.47</td>\n",
              "    </tr>\n",
              "    <tr>\n",
              "      <th>4</th>\n",
              "      <td>29/01/2014</td>\n",
              "      <td>8,833.28</td>\n",
              "      <td>5,769.18</td>\n",
              "      <td>88.57</td>\n",
              "      <td>1,971.65</td>\n",
              "    </tr>\n",
              "    <tr>\n",
              "      <th>...</th>\n",
              "      <td>...</td>\n",
              "      <td>...</td>\n",
              "      <td>...</td>\n",
              "      <td>...</td>\n",
              "      <td>...</td>\n",
              "    </tr>\n",
              "    <tr>\n",
              "      <th>552</th>\n",
              "      <td>27/11/2024</td>\n",
              "      <td>15,152.24</td>\n",
              "      <td>11,211.55</td>\n",
              "      <td>92.84</td>\n",
              "      <td>3,668.47</td>\n",
              "    </tr>\n",
              "    <tr>\n",
              "      <th>553</th>\n",
              "      <td>4/12/2024</td>\n",
              "      <td>15,293.38</td>\n",
              "      <td>11,458.24</td>\n",
              "      <td>92.84</td>\n",
              "      <td>3,709.19</td>\n",
              "    </tr>\n",
              "    <tr>\n",
              "      <th>554</th>\n",
              "      <td>11/12/2024</td>\n",
              "      <td>15,774.13</td>\n",
              "      <td>11,794.66</td>\n",
              "      <td>92.84</td>\n",
              "      <td>3,824.03</td>\n",
              "    </tr>\n",
              "    <tr>\n",
              "      <th>555</th>\n",
              "      <td>18/12/2024</td>\n",
              "      <td>15,639.51</td>\n",
              "      <td>11,866.30</td>\n",
              "      <td>93.30</td>\n",
              "      <td>3,819.14</td>\n",
              "    </tr>\n",
              "    <tr>\n",
              "      <th>556</th>\n",
              "      <td>25/12/2024</td>\n",
              "      <td>15,156.28</td>\n",
              "      <td>11,456.75</td>\n",
              "      <td>93.30</td>\n",
              "      <td>3,699.75</td>\n",
              "    </tr>\n",
              "  </tbody>\n",
              "</table>\n",
              "<p>557 rows × 5 columns</p>\n",
              "</div>\n",
              "    <div class=\"colab-df-buttons\">\n",
              "\n",
              "  <div class=\"colab-df-container\">\n",
              "    <button class=\"colab-df-convert\" onclick=\"convertToInteractive('df-af58bb1a-fc20-4a1c-9d23-50f83622433a')\"\n",
              "            title=\"Convert this dataframe to an interactive table.\"\n",
              "            style=\"display:none;\">\n",
              "\n",
              "  <svg xmlns=\"http://www.w3.org/2000/svg\" height=\"24px\" viewBox=\"0 -960 960 960\">\n",
              "    <path d=\"M120-120v-720h720v720H120Zm60-500h600v-160H180v160Zm220 220h160v-160H400v160Zm0 220h160v-160H400v160ZM180-400h160v-160H180v160Zm440 0h160v-160H620v160ZM180-180h160v-160H180v160Zm440 0h160v-160H620v160Z\"/>\n",
              "  </svg>\n",
              "    </button>\n",
              "\n",
              "  <style>\n",
              "    .colab-df-container {\n",
              "      display:flex;\n",
              "      gap: 12px;\n",
              "    }\n",
              "\n",
              "    .colab-df-convert {\n",
              "      background-color: #E8F0FE;\n",
              "      border: none;\n",
              "      border-radius: 50%;\n",
              "      cursor: pointer;\n",
              "      display: none;\n",
              "      fill: #1967D2;\n",
              "      height: 32px;\n",
              "      padding: 0 0 0 0;\n",
              "      width: 32px;\n",
              "    }\n",
              "\n",
              "    .colab-df-convert:hover {\n",
              "      background-color: #E2EBFA;\n",
              "      box-shadow: 0px 1px 2px rgba(60, 64, 67, 0.3), 0px 1px 3px 1px rgba(60, 64, 67, 0.15);\n",
              "      fill: #174EA6;\n",
              "    }\n",
              "\n",
              "    .colab-df-buttons div {\n",
              "      margin-bottom: 4px;\n",
              "    }\n",
              "\n",
              "    [theme=dark] .colab-df-convert {\n",
              "      background-color: #3B4455;\n",
              "      fill: #D2E3FC;\n",
              "    }\n",
              "\n",
              "    [theme=dark] .colab-df-convert:hover {\n",
              "      background-color: #434B5C;\n",
              "      box-shadow: 0px 1px 3px 1px rgba(0, 0, 0, 0.15);\n",
              "      filter: drop-shadow(0px 1px 2px rgba(0, 0, 0, 0.3));\n",
              "      fill: #FFFFFF;\n",
              "    }\n",
              "  </style>\n",
              "\n",
              "    <script>\n",
              "      const buttonEl =\n",
              "        document.querySelector('#df-af58bb1a-fc20-4a1c-9d23-50f83622433a button.colab-df-convert');\n",
              "      buttonEl.style.display =\n",
              "        google.colab.kernel.accessAllowed ? 'block' : 'none';\n",
              "\n",
              "      async function convertToInteractive(key) {\n",
              "        const element = document.querySelector('#df-af58bb1a-fc20-4a1c-9d23-50f83622433a');\n",
              "        const dataTable =\n",
              "          await google.colab.kernel.invokeFunction('convertToInteractive',\n",
              "                                                    [key], {});\n",
              "        if (!dataTable) return;\n",
              "\n",
              "        const docLinkHtml = 'Like what you see? Visit the ' +\n",
              "          '<a target=\"_blank\" href=https://colab.research.google.com/notebooks/data_table.ipynb>data table notebook</a>'\n",
              "          + ' to learn more about interactive tables.';\n",
              "        element.innerHTML = '';\n",
              "        dataTable['output_type'] = 'display_data';\n",
              "        await google.colab.output.renderOutput(dataTable, element);\n",
              "        const docLink = document.createElement('div');\n",
              "        docLink.innerHTML = docLinkHtml;\n",
              "        element.appendChild(docLink);\n",
              "      }\n",
              "    </script>\n",
              "  </div>\n",
              "\n",
              "\n",
              "<div id=\"df-9ae0bc96-1cbb-4b66-b7de-d6d78aa697c4\">\n",
              "  <button class=\"colab-df-quickchart\" onclick=\"quickchart('df-9ae0bc96-1cbb-4b66-b7de-d6d78aa697c4')\"\n",
              "            title=\"Suggest charts\"\n",
              "            style=\"display:none;\">\n",
              "\n",
              "<svg xmlns=\"http://www.w3.org/2000/svg\" height=\"24px\"viewBox=\"0 0 24 24\"\n",
              "     width=\"24px\">\n",
              "    <g>\n",
              "        <path d=\"M19 3H5c-1.1 0-2 .9-2 2v14c0 1.1.9 2 2 2h14c1.1 0 2-.9 2-2V5c0-1.1-.9-2-2-2zM9 17H7v-7h2v7zm4 0h-2V7h2v10zm4 0h-2v-4h2v4z\"/>\n",
              "    </g>\n",
              "</svg>\n",
              "  </button>\n",
              "\n",
              "<style>\n",
              "  .colab-df-quickchart {\n",
              "      --bg-color: #E8F0FE;\n",
              "      --fill-color: #1967D2;\n",
              "      --hover-bg-color: #E2EBFA;\n",
              "      --hover-fill-color: #174EA6;\n",
              "      --disabled-fill-color: #AAA;\n",
              "      --disabled-bg-color: #DDD;\n",
              "  }\n",
              "\n",
              "  [theme=dark] .colab-df-quickchart {\n",
              "      --bg-color: #3B4455;\n",
              "      --fill-color: #D2E3FC;\n",
              "      --hover-bg-color: #434B5C;\n",
              "      --hover-fill-color: #FFFFFF;\n",
              "      --disabled-bg-color: #3B4455;\n",
              "      --disabled-fill-color: #666;\n",
              "  }\n",
              "\n",
              "  .colab-df-quickchart {\n",
              "    background-color: var(--bg-color);\n",
              "    border: none;\n",
              "    border-radius: 50%;\n",
              "    cursor: pointer;\n",
              "    display: none;\n",
              "    fill: var(--fill-color);\n",
              "    height: 32px;\n",
              "    padding: 0;\n",
              "    width: 32px;\n",
              "  }\n",
              "\n",
              "  .colab-df-quickchart:hover {\n",
              "    background-color: var(--hover-bg-color);\n",
              "    box-shadow: 0 1px 2px rgba(60, 64, 67, 0.3), 0 1px 3px 1px rgba(60, 64, 67, 0.15);\n",
              "    fill: var(--button-hover-fill-color);\n",
              "  }\n",
              "\n",
              "  .colab-df-quickchart-complete:disabled,\n",
              "  .colab-df-quickchart-complete:disabled:hover {\n",
              "    background-color: var(--disabled-bg-color);\n",
              "    fill: var(--disabled-fill-color);\n",
              "    box-shadow: none;\n",
              "  }\n",
              "\n",
              "  .colab-df-spinner {\n",
              "    border: 2px solid var(--fill-color);\n",
              "    border-color: transparent;\n",
              "    border-bottom-color: var(--fill-color);\n",
              "    animation:\n",
              "      spin 1s steps(1) infinite;\n",
              "  }\n",
              "\n",
              "  @keyframes spin {\n",
              "    0% {\n",
              "      border-color: transparent;\n",
              "      border-bottom-color: var(--fill-color);\n",
              "      border-left-color: var(--fill-color);\n",
              "    }\n",
              "    20% {\n",
              "      border-color: transparent;\n",
              "      border-left-color: var(--fill-color);\n",
              "      border-top-color: var(--fill-color);\n",
              "    }\n",
              "    30% {\n",
              "      border-color: transparent;\n",
              "      border-left-color: var(--fill-color);\n",
              "      border-top-color: var(--fill-color);\n",
              "      border-right-color: var(--fill-color);\n",
              "    }\n",
              "    40% {\n",
              "      border-color: transparent;\n",
              "      border-right-color: var(--fill-color);\n",
              "      border-top-color: var(--fill-color);\n",
              "    }\n",
              "    60% {\n",
              "      border-color: transparent;\n",
              "      border-right-color: var(--fill-color);\n",
              "    }\n",
              "    80% {\n",
              "      border-color: transparent;\n",
              "      border-right-color: var(--fill-color);\n",
              "      border-bottom-color: var(--fill-color);\n",
              "    }\n",
              "    90% {\n",
              "      border-color: transparent;\n",
              "      border-bottom-color: var(--fill-color);\n",
              "    }\n",
              "  }\n",
              "</style>\n",
              "\n",
              "  <script>\n",
              "    async function quickchart(key) {\n",
              "      const quickchartButtonEl =\n",
              "        document.querySelector('#' + key + ' button');\n",
              "      quickchartButtonEl.disabled = true;  // To prevent multiple clicks.\n",
              "      quickchartButtonEl.classList.add('colab-df-spinner');\n",
              "      try {\n",
              "        const charts = await google.colab.kernel.invokeFunction(\n",
              "            'suggestCharts', [key], {});\n",
              "      } catch (error) {\n",
              "        console.error('Error during call to suggestCharts:', error);\n",
              "      }\n",
              "      quickchartButtonEl.classList.remove('colab-df-spinner');\n",
              "      quickchartButtonEl.classList.add('colab-df-quickchart-complete');\n",
              "    }\n",
              "    (() => {\n",
              "      let quickchartButtonEl =\n",
              "        document.querySelector('#df-9ae0bc96-1cbb-4b66-b7de-d6d78aa697c4 button');\n",
              "      quickchartButtonEl.style.display =\n",
              "        google.colab.kernel.accessAllowed ? 'block' : 'none';\n",
              "    })();\n",
              "  </script>\n",
              "</div>\n",
              "\n",
              "  <div id=\"id_40258687-91e4-4448-8185-9d4d410ff1fd\">\n",
              "    <style>\n",
              "      .colab-df-generate {\n",
              "        background-color: #E8F0FE;\n",
              "        border: none;\n",
              "        border-radius: 50%;\n",
              "        cursor: pointer;\n",
              "        display: none;\n",
              "        fill: #1967D2;\n",
              "        height: 32px;\n",
              "        padding: 0 0 0 0;\n",
              "        width: 32px;\n",
              "      }\n",
              "\n",
              "      .colab-df-generate:hover {\n",
              "        background-color: #E2EBFA;\n",
              "        box-shadow: 0px 1px 2px rgba(60, 64, 67, 0.3), 0px 1px 3px 1px rgba(60, 64, 67, 0.15);\n",
              "        fill: #174EA6;\n",
              "      }\n",
              "\n",
              "      [theme=dark] .colab-df-generate {\n",
              "        background-color: #3B4455;\n",
              "        fill: #D2E3FC;\n",
              "      }\n",
              "\n",
              "      [theme=dark] .colab-df-generate:hover {\n",
              "        background-color: #434B5C;\n",
              "        box-shadow: 0px 1px 3px 1px rgba(0, 0, 0, 0.15);\n",
              "        filter: drop-shadow(0px 1px 2px rgba(0, 0, 0, 0.3));\n",
              "        fill: #FFFFFF;\n",
              "      }\n",
              "    </style>\n",
              "    <button class=\"colab-df-generate\" onclick=\"generateWithVariable('df')\"\n",
              "            title=\"Generate code using this dataframe.\"\n",
              "            style=\"display:none;\">\n",
              "\n",
              "  <svg xmlns=\"http://www.w3.org/2000/svg\" height=\"24px\"viewBox=\"0 0 24 24\"\n",
              "       width=\"24px\">\n",
              "    <path d=\"M7,19H8.4L18.45,9,17,7.55,7,17.6ZM5,21V16.75L18.45,3.32a2,2,0,0,1,2.83,0l1.4,1.43a1.91,1.91,0,0,1,.58,1.4,1.91,1.91,0,0,1-.58,1.4L9.25,21ZM18.45,9,17,7.55Zm-12,3A5.31,5.31,0,0,0,4.9,8.1,5.31,5.31,0,0,0,1,6.5,5.31,5.31,0,0,0,4.9,4.9,5.31,5.31,0,0,0,6.5,1,5.31,5.31,0,0,0,8.1,4.9,5.31,5.31,0,0,0,12,6.5,5.46,5.46,0,0,0,6.5,12Z\"/>\n",
              "  </svg>\n",
              "    </button>\n",
              "    <script>\n",
              "      (() => {\n",
              "      const buttonEl =\n",
              "        document.querySelector('#id_40258687-91e4-4448-8185-9d4d410ff1fd button.colab-df-generate');\n",
              "      buttonEl.style.display =\n",
              "        google.colab.kernel.accessAllowed ? 'block' : 'none';\n",
              "\n",
              "      buttonEl.onclick = () => {\n",
              "        google.colab.notebook.generateWithVariable('df');\n",
              "      }\n",
              "      })();\n",
              "    </script>\n",
              "  </div>\n",
              "\n",
              "    </div>\n",
              "  </div>\n"
            ],
            "application/vnd.google.colaboratory.intrinsic+json": {
              "type": "dataframe",
              "variable_name": "df",
              "summary": "{\n  \"name\": \"df\",\n  \"rows\": 557,\n  \"fields\": [\n    {\n      \"column\": \"Tanggal\",\n      \"properties\": {\n        \"dtype\": \"string\",\n        \"num_unique_values\": 557,\n        \"samples\": [\n          \"8/2/2017\",\n          \"9/11/2022\",\n          \"28/01/2015\"\n        ],\n        \"semantic_type\": \"\",\n        \"description\": \"\"\n      }\n    },\n    {\n      \"column\": \"Harga_CPO\",\n      \"properties\": {\n        \"dtype\": \"string\",\n        \"num_unique_values\": 556,\n        \"samples\": [\n          \"11,333.40\",\n          \"7,739.14\",\n          \"7,742.46\"\n        ],\n        \"semantic_type\": \"\",\n        \"description\": \"\"\n      }\n    },\n    {\n      \"column\": \"Harga_Kernel\",\n      \"properties\": {\n        \"dtype\": \"string\",\n        \"num_unique_values\": 551,\n        \"samples\": [\n          \"11,211.55\",\n          \"4,258.27\",\n          \"6,688.50\"\n        ],\n        \"semantic_type\": \"\",\n        \"description\": \"\"\n      }\n    },\n    {\n      \"column\": \"Indeks_K\",\n      \"properties\": {\n        \"dtype\": \"number\",\n        \"std\": 2.2826133842094998,\n        \"min\": 83.78,\n        \"max\": 93.3,\n        \"num_unique_values\": 353,\n        \"samples\": [\n          86.06,\n          87.4,\n          86.83\n        ],\n        \"semantic_type\": \"\",\n        \"description\": \"\"\n      }\n    },\n    {\n      \"column\": \"Harga_TBS\",\n      \"properties\": {\n        \"dtype\": \"string\",\n        \"num_unique_values\": 556,\n        \"samples\": [\n          \"2,581.62\",\n          \"1,764.04\",\n          \"1,724.22\"\n        ],\n        \"semantic_type\": \"\",\n        \"description\": \"\"\n      }\n    }\n  ]\n}"
            }
          },
          "metadata": {},
          "execution_count": 2
        }
      ]
    },
    {
      "cell_type": "markdown",
      "metadata": {
        "id": "289346fa"
      },
      "source": [
        "## Preprocessing Data"
      ]
    },
    {
      "cell_type": "markdown",
      "metadata": {
        "id": "2fbb7c77"
      },
      "source": [
        "**Cek Missing Value**"
      ]
    },
    {
      "cell_type": "code",
      "source": [
        "# Memeriksa jumlah nilai null (missing values) dalam setiap kolom\n",
        "df.isnull().sum()"
      ],
      "metadata": {
        "colab": {
          "base_uri": "https://localhost:8080/",
          "height": 241
        },
        "id": "sSIpt7068rRW",
        "outputId": "f0750acb-afa6-4a47-ce8a-b870a8eba4ba"
      },
      "execution_count": null,
      "outputs": [
        {
          "output_type": "execute_result",
          "data": {
            "text/plain": [
              "Tanggal         0\n",
              "Harga_CPO       0\n",
              "Harga_Kernel    0\n",
              "Indeks_K        0\n",
              "Harga_TBS       0\n",
              "dtype: int64"
            ],
            "text/html": [
              "<div>\n",
              "<style scoped>\n",
              "    .dataframe tbody tr th:only-of-type {\n",
              "        vertical-align: middle;\n",
              "    }\n",
              "\n",
              "    .dataframe tbody tr th {\n",
              "        vertical-align: top;\n",
              "    }\n",
              "\n",
              "    .dataframe thead th {\n",
              "        text-align: right;\n",
              "    }\n",
              "</style>\n",
              "<table border=\"1\" class=\"dataframe\">\n",
              "  <thead>\n",
              "    <tr style=\"text-align: right;\">\n",
              "      <th></th>\n",
              "      <th>0</th>\n",
              "    </tr>\n",
              "  </thead>\n",
              "  <tbody>\n",
              "    <tr>\n",
              "      <th>Tanggal</th>\n",
              "      <td>0</td>\n",
              "    </tr>\n",
              "    <tr>\n",
              "      <th>Harga_CPO</th>\n",
              "      <td>0</td>\n",
              "    </tr>\n",
              "    <tr>\n",
              "      <th>Harga_Kernel</th>\n",
              "      <td>0</td>\n",
              "    </tr>\n",
              "    <tr>\n",
              "      <th>Indeks_K</th>\n",
              "      <td>0</td>\n",
              "    </tr>\n",
              "    <tr>\n",
              "      <th>Harga_TBS</th>\n",
              "      <td>0</td>\n",
              "    </tr>\n",
              "  </tbody>\n",
              "</table>\n",
              "</div><br><label><b>dtype:</b> int64</label>"
            ]
          },
          "metadata": {},
          "execution_count": 3
        }
      ]
    },
    {
      "cell_type": "markdown",
      "metadata": {
        "id": "07a20d49"
      },
      "source": [
        "**Seleksi Data**"
      ]
    },
    {
      "cell_type": "code",
      "source": [
        "# Fitur input dan target\n",
        "input_features = ['Harga_CPO', 'Harga_Kernel', 'Indeks_K']  # Input\n",
        "target_feature = 'Harga_TBS'  # Target"
      ],
      "metadata": {
        "id": "iPMNoGsF838L"
      },
      "execution_count": null,
      "outputs": []
    },
    {
      "cell_type": "markdown",
      "metadata": {
        "id": "1xVDT8fO905e"
      },
      "source": [
        "**Pembersihan Data**"
      ]
    },
    {
      "cell_type": "code",
      "source": [
        "# Bersihkan data dari tanda koma dan ubah menjadi float\n",
        "for col in input_features + [target_feature]:\n",
        "    if df[col].dtype == 'object':\n",
        "        df[col] = df[col].str.replace(',', '').astype(float)\n",
        "print(df.head())"
      ],
      "metadata": {
        "colab": {
          "base_uri": "https://localhost:8080/"
        },
        "id": "GcDMy5_t9oG9",
        "outputId": "05b202c8-98b1-4dec-9f9b-136865b658dd"
      },
      "execution_count": null,
      "outputs": [
        {
          "output_type": "stream",
          "name": "stdout",
          "text": [
            "      Tanggal  Harga_CPO  Harga_Kernel  Indeks_K  Harga_TBS\n",
            "0    1/1/2014    8751.71       5537.80     88.82    1950.93\n",
            "1    8/1/2014    8858.36       5614.35     88.51    1968.08\n",
            "2  15/01/2014    8715.29       5585.42     88.25    1933.36\n",
            "3  22/01/2014    8630.70       5626.46     88.82    1931.47\n",
            "4  29/01/2014    8833.28       5769.18     88.57    1971.65\n"
          ]
        }
      ]
    },
    {
      "cell_type": "markdown",
      "metadata": {
        "id": "oyapOTVS9-ZU"
      },
      "source": [
        "**Grafik Rata-rata Harga TBS 2014-2024**"
      ]
    },
    {
      "cell_type": "code",
      "source": [
        "df['Tanggal'] = pd.to_datetime(df['Tanggal'], dayfirst=True)\n",
        "df['Harga_TBS'] = df['Harga_TBS']\n",
        "df['Tahun'] = df['Tanggal'].dt.year\n",
        "df_tahunan = df.groupby('Tahun', as_index=False)['Harga_TBS'].mean()\n",
        "\n",
        "plt.figure(figsize=(9, 6))\n",
        "sns.lineplot(x=\"Tahun\", y=\"Harga_TBS\", data=df_tahunan, marker=\"o\", linewidth=2.5, color=\"blue\")\n",
        "plt.title(\"Histori Rata-rata Harga TBS selama 10 tahun (2014-2024)\")\n",
        "plt.xlabel(\"Tahun\", fontsize=14)\n",
        "plt.ylabel(\"Harga TBS (Rupiah)\")\n",
        "plt.grid(visible=True, linestyle=\"--\", alpha=0.5)\n",
        "plt.xticks(df_tahunan['Tahun'])\n",
        "plt.tight_layout()\n",
        "plt.show()"
      ],
      "metadata": {
        "colab": {
          "base_uri": "https://localhost:8080/",
          "height": 607
        },
        "id": "Hb2ObTnm98uH",
        "outputId": "67ed5c0d-30be-4682-c1bc-96229d251514"
      },
      "execution_count": null,
      "outputs": [
        {
          "output_type": "display_data",
          "data": {
            "text/plain": [
              "<Figure size 900x600 with 1 Axes>"
            ],
            "image/png": "[encoded data removed]"
          },
          "metadata": {}
        }
      ]
    },
    {
      "cell_type": "markdown",
      "metadata": {
        "id": "2fc05eea"
      },
      "source": [
        "**Normalization**\n",
        "\n",
        "Mengubah nilai-nilai ke dalam range antara 0 dan 1"
      ]
    },
    {
      "cell_type": "code",
      "source": [
        "# Normalisasi data\n",
        "scaler = MinMaxScaler(feature_range=(0, 1))\n",
        "data_scaled = scaler.fit_transform(df[input_features + [target_feature]])\n",
        "\n",
        "print(\"Data setelah normalisasi:\")\n",
        "print(data_scaled)"
      ],
      "metadata": {
        "colab": {
          "base_uri": "https://localhost:8080/"
        },
        "id": "E6La1HCA-JmS",
        "outputId": "ed2cff37-bdf1-4396-8b6b-81f841db3c72"
      },
      "execution_count": null,
      "outputs": [
        {
          "output_type": "stream",
          "name": "stdout",
          "text": [
            "Data setelah normalisasi:\n",
            "[[0.28729535 0.25153138 0.52941176 0.26955276]\n",
            " [0.2960529  0.25823007 0.49684874 0.27501393]\n",
            " [0.28430473 0.25569848 0.46953782 0.26395784]\n",
            " ...\n",
            " [0.86394056 0.79905317 0.95168067 0.86601493]\n",
            " [0.85288626 0.8053222  1.         0.86445778]\n",
            " [0.81320588 0.76948353 1.         0.82643973]]\n"
          ]
        }
      ]
    },
    {
      "cell_type": "markdown",
      "metadata": {
        "id": "c2b28ec0"
      },
      "source": [
        "**Data split & Time series windowing**\n",
        "\n",
        "melakukan pembagian data menjadi data train dan data test dengan perbandingan 80:20, serta melakukan penyesuaian dimensi data untuk digunakan dalam model LSTM. Dilakukan juga reshapping atau mengubah bentuk dari masing-masing input data yang telah disiapkan menjadi tiga dimensi, yaitu (jumlah sampel, jumlah time steps, jumlah fitur) agar dapat digunakan sebagai input dalam model LSTM."
      ]
    },
    {
      "cell_type": "code",
      "source": [
        "# Pisahkan data training (2014-2023) dan testing (2024)\n",
        "df_train = df[df['Tahun'] <= 2023]\n",
        "df_test = df[df['Tahun'] == 2024]\n",
        "\n",
        "# Bagi df_train menjadi 90% training dan 10% validation\n",
        "train_size = int(len(df_train) * 0.9)\n",
        "df_train_main = df_train.iloc[:train_size]  # 90% training\n",
        "df_val = df_train.iloc[train_size:]         # 10% validation\n",
        "\n",
        "# ======================================\n",
        "# Perubahan di sini: Scaling data yang dipisahkan\n",
        "# ======================================\n",
        "train_scaled = scaler.transform(df_train_main[input_features + [target_feature]])\n",
        "val_scaled = scaler.transform(df_val[input_features + [target_feature]])\n",
        "test_scaled = scaler.transform(df_test[input_features + [target_feature]])\n",
        "# ======================================"
      ],
      "metadata": {
        "id": "-FnFRSgxSd_e"
      },
      "execution_count": null,
      "outputs": []
    },
    {
      "cell_type": "code",
      "source": [
        "# Fungsi untuk membuat dataset time series\n",
        "def create_dataset(dataset, look_back=3):\n",
        "    X, Y = [], []\n",
        "    for i in range(len(dataset) - look_back):\n",
        "        X.append(dataset[i:(i + look_back), :-1])  # Semua fitur kecuali target\n",
        "        Y.append(dataset[i + look_back, -1])      # Hanya target\n",
        "    return np.array(X), np.array(Y)\n",
        "\n",
        "# Buat dataset untuk training, validation, dan testing\n",
        "look_back = 3\n",
        "X_train, Y_train = create_dataset(train_scaled, look_back)\n",
        "X_val, Y_val = create_dataset(val_scaled, look_back)\n",
        "X_test, Y_test = create_dataset(test_scaled, look_back)\n",
        "\n",
        "# Reshape input untuk LSTM\n",
        "X_train = X_train.reshape((X_train.shape[0], look_back, len(input_features)))\n",
        "X_val = X_val.reshape((X_val.shape[0], look_back, len(input_features)))\n",
        "X_test = X_test.reshape((X_test.shape[0], look_back, len(input_features)))\n",
        "\n",
        "# Cek bentuk dataset\n",
        "print(f\"Bentuk X_train: {X_train.shape}, Y_train: {Y_train.shape}\")\n",
        "print(f\"Bentuk X_test: {X_test.shape}, Y_test: {Y_test.shape}\")"
      ],
      "metadata": {
        "colab": {
          "base_uri": "https://localhost:8080/"
        },
        "id": "nPABkWNw-QFW",
        "outputId": "0be212cb-a1eb-4935-cc9a-3931bef7e1b2"
      },
      "execution_count": null,
      "outputs": [
        {
          "output_type": "stream",
          "name": "stdout",
          "text": [
            "Bentuk X_train: (455, 3, 3), Y_train: (455,)\n",
            "Bentuk X_test: (45, 3, 3), Y_test: (45,)\n"
          ]
        }
      ]
    },
    {
      "cell_type": "markdown",
      "metadata": {
        "id": "4094a521"
      },
      "source": [
        "## Modelling"
      ]
    },
    {
      "cell_type": "markdown",
      "metadata": {
        "id": "ff054328"
      },
      "source": [
        "**Arsitektur LSTM**\n",
        "\n",
        "* Dilakukan inisialisasi hyperparameter.\n",
        "\n",
        "* Model LSTM dibuat dengan menggunakan objek Sequential dari library Keras.\n",
        "\n",
        "* Ditambahkan sebuah layer Dense dengan 1 neuron yang berfungsi untuk menghasilkan output berupa harga TBS.\n",
        "\n",
        "* Model dicompile dengan menggunakan optimizer Adam dan loss function mse, yang akan digunakan untuk mengukur seberapa besar selisih antara hasil prediksi dengan nilai yang sebenarnya.\n",
        "\n",
        "* Model dilatih dengan menggunakan fungsi fit() yang memasukkan input dan output data training serta beberapa parameter seperti jumlah epoch, jumlah batch, dan validation data."
      ]
    },
    {
      "cell_type": "code",
      "source": [
        "#Inisialisasi Hyperparameter\n",
        "num_neuron = 40\n",
        "num_epochs = 100\n",
        "num_batch = 16\n",
        "\n",
        "# Layer LSTM\n",
        "model = Sequential()\n",
        "model.add(LSTM(num_neuron, input_shape=(look_back, X_train.shape[2])))\n",
        "model.add(Dense(1))  # Output hanya untuk Harga TBS\n",
        "model.compile(optimizer='adam', loss='mean_squared_error')\n",
        "\n",
        "# Ringkasan model\n",
        "model.summary()\n",
        "\n",
        "# Training model\n",
        "history = model.fit(X_train, Y_train, epochs=num_epochs, batch_size=num_batch, validation_data=(X_test, Y_test), verbose=1)"
      ],
      "metadata": {
        "colab": {
          "base_uri": "https://localhost:8080/",
          "height": 1000
        },
        "id": "ZJ1e4ww9_Hog",
        "outputId": "6d2b6e29-5dc2-44d1-cf17-93a2ce2f24f2"
      },
      "execution_count": null,
      "outputs": [
        {
          "output_type": "stream",
          "name": "stderr",
          "text": [
            "/usr/local/lib/python3.11/dist-packages/keras/src/layers/rnn/rnn.py:200: UserWarning: Do not pass an `input_shape`/`input_dim` argument to a layer. When using Sequential models, prefer using an `Input(shape)` object as the first layer in the model instead.\n",
            "  super().__init__(**kwargs)\n"
          ]
        },
        {
          "output_type": "display_data",
          "data": {
            "text/plain": [
              "\u001b[1mModel: \"sequential\"\u001b[0m\n"
            ],
            "text/html": [
              "<pre style=\"white-space:pre;overflow-x:auto;line-height:normal;font-family:Menlo,'DejaVu Sans Mono',consolas,'Courier New',monospace\"><span style=\"font-weight: bold\">Model: \"sequential\"</span>\n",
              "</pre>\n"
            ]
          },
          "metadata": {}
        },
        {
          "output_type": "display_data",
          "data": {
            "text/plain": [
              "┏━━━━━━━━━━━━━━━━━━━━━━━━━━━━━━━━━━━━━━┳━━━━━━━━━━━━━━━━━━━━━━━━━━━━━┳━━━━━━━━━━━━━━━━━┓\n",
              "┃\u001b[1m \u001b[0m\u001b[1mLayer (type)                        \u001b[0m\u001b[1m \u001b[0m┃\u001b[1m \u001b[0m\u001b[1mOutput Shape               \u001b[0m\u001b[1m \u001b[0m┃\u001b[1m \u001b[0m\u001b[1m        Param #\u001b[0m\u001b[1m \u001b[0m┃\n",
              "┡━━━━━━━━━━━━━━━━━━━━━━━━━━━━━━━━━━━━━━╇━━━━━━━━━━━━━━━━━━━━━━━━━━━━━╇━━━━━━━━━━━━━━━━━┩\n",
              "│ lstm (\u001b[38;5;33mLSTM\u001b[0m)                          │ (\u001b[38;5;45mNone\u001b[0m, \u001b[38;5;34m40\u001b[0m)                  │           \u001b[38;5;34m7,040\u001b[0m │\n",
              "├──────────────────────────────────────┼─────────────────────────────┼─────────────────┤\n",
              "│ dense (\u001b[38;5;33mDense\u001b[0m)                        │ (\u001b[38;5;45mNone\u001b[0m, \u001b[38;5;34m1\u001b[0m)                   │              \u001b[38;5;34m41\u001b[0m │\n",
              "└──────────────────────────────────────┴─────────────────────────────┴─────────────────┘\n"
            ],
            "text/html": [
              "<pre style=\"white-space:pre;overflow-x:auto;line-height:normal;font-family:Menlo,'DejaVu Sans Mono',consolas,'Courier New',monospace\">┏━━━━━━━━━━━━━━━━━━━━━━━━━━━━━━━━━━━━━━┳━━━━━━━━━━━━━━━━━━━━━━━━━━━━━┳━━━━━━━━━━━━━━━━━┓\n",
              "┃<span style=\"font-weight: bold\"> Layer (type)                         </span>┃<span style=\"font-weight: bold\"> Output Shape                </span>┃<span style=\"font-weight: bold\">         Param # </span>┃\n",
              "┡━━━━━━━━━━━━━━━━━━━━━━━━━━━━━━━━━━━━━━╇━━━━━━━━━━━━━━━━━━━━━━━━━━━━━╇━━━━━━━━━━━━━━━━━┩\n",
              "│ lstm (<span style=\"color: #0087ff; text-decoration-color: #0087ff\">LSTM</span>)                          │ (<span style=\"color: #00d7ff; text-decoration-color: #00d7ff\">None</span>, <span style=\"color: #00af00; text-decoration-color: #00af00\">40</span>)                  │           <span style=\"color: #00af00; text-decoration-color: #00af00\">7,040</span> │\n",
              "├──────────────────────────────────────┼─────────────────────────────┼─────────────────┤\n",
              "│ dense (<span style=\"color: #0087ff; text-decoration-color: #0087ff\">Dense</span>)                        │ (<span style=\"color: #00d7ff; text-decoration-color: #00d7ff\">None</span>, <span style=\"color: #00af00; text-decoration-color: #00af00\">1</span>)                   │              <span style=\"color: #00af00; text-decoration-color: #00af00\">41</span> │\n",
              "└──────────────────────────────────────┴─────────────────────────────┴─────────────────┘\n",
              "</pre>\n"
            ]
          },
          "metadata": {}
        },
        {
          "output_type": "display_data",
          "data": {
            "text/plain": [
              "\u001b[1m Total params: \u001b[0m\u001b[38;5;34m7,081\u001b[0m (27.66 KB)\n"
            ],
            "text/html": [
              "<pre style=\"white-space:pre;overflow-x:auto;line-height:normal;font-family:Menlo,'DejaVu Sans Mono',consolas,'Courier New',monospace\"><span style=\"font-weight: bold\"> Total params: </span><span style=\"color: #00af00; text-decoration-color: #00af00\">7,081</span> (27.66 KB)\n",
              "</pre>\n"
            ]
          },
          "metadata": {}
        },
        {
          "output_type": "display_data",
          "data": {
            "text/plain": [
              "\u001b[1m Trainable params: \u001b[0m\u001b[38;5;34m7,081\u001b[0m (27.66 KB)\n"
            ],
            "text/html": [
              "<pre style=\"white-space:pre;overflow-x:auto;line-height:normal;font-family:Menlo,'DejaVu Sans Mono',consolas,'Courier New',monospace\"><span style=\"font-weight: bold\"> Trainable params: </span><span style=\"color: #00af00; text-decoration-color: #00af00\">7,081</span> (27.66 KB)\n",
              "</pre>\n"
            ]
          },
          "metadata": {}
        },
        {
          "output_type": "display_data",
          "data": {
            "text/plain": [
              "\u001b[1m Non-trainable params: \u001b[0m\u001b[38;5;34m0\u001b[0m (0.00 B)\n"
            ],
            "text/html": [
              "<pre style=\"white-space:pre;overflow-x:auto;line-height:normal;font-family:Menlo,'DejaVu Sans Mono',consolas,'Courier New',monospace\"><span style=\"font-weight: bold\"> Non-trainable params: </span><span style=\"color: #00af00; text-decoration-color: #00af00\">0</span> (0.00 B)\n",
              "</pre>\n"
            ]
          },
          "metadata": {}
        },
        {
          "output_type": "stream",
          "name": "stdout",
          "text": [
            "Epoch 1/100\n",
            "\u001b[1m29/29\u001b[0m \u001b[32m━━━━━━━━━━━━━━━━━━━━\u001b[0m\u001b[37m\u001b[0m \u001b[1m7s\u001b[0m 18ms/step - loss: 0.0927 - val_loss: 0.0451\n",
            "Epoch 2/100\n",
            "\u001b[1m29/29\u001b[0m \u001b[32m━━━━━━━━━━━━━━━━━━━━\u001b[0m\u001b[37m\u001b[0m \u001b[1m0s\u001b[0m 7ms/step - loss: 0.0123 - val_loss: 0.0358\n",
            "Epoch 3/100\n",
            "\u001b[1m29/29\u001b[0m \u001b[32m━━━━━━━━━━━━━━━━━━━━\u001b[0m\u001b[37m\u001b[0m \u001b[1m0s\u001b[0m 6ms/step - loss: 0.0086 - val_loss: 0.0189\n",
            "Epoch 4/100\n",
            "\u001b[1m29/29\u001b[0m \u001b[32m━━━━━━━━━━━━━━━━━━━━\u001b[0m\u001b[37m\u001b[0m \u001b[1m0s\u001b[0m 7ms/step - loss: 0.0048 - val_loss: 0.0105\n",
            "Epoch 5/100\n",
            "\u001b[1m29/29\u001b[0m \u001b[32m━━━━━━━━━━━━━━━━━━━━\u001b[0m\u001b[37m\u001b[0m \u001b[1m0s\u001b[0m 6ms/step - loss: 0.0027 - val_loss: 0.0022\n",
            "Epoch 6/100\n",
            "\u001b[1m29/29\u001b[0m \u001b[32m━━━━━━━━━━━━━━━━━━━━\u001b[0m\u001b[37m\u001b[0m \u001b[1m0s\u001b[0m 7ms/step - loss: 0.0027 - val_loss: 0.0028\n",
            "Epoch 7/100\n",
            "\u001b[1m29/29\u001b[0m \u001b[32m━━━━━━━━━━━━━━━━━━━━\u001b[0m\u001b[37m\u001b[0m \u001b[1m0s\u001b[0m 9ms/step - loss: 0.0021 - val_loss: 0.0037\n",
            "Epoch 8/100\n",
            "\u001b[1m29/29\u001b[0m \u001b[32m━━━━━━━━━━━━━━━━━━━━\u001b[0m\u001b[37m\u001b[0m \u001b[1m0s\u001b[0m 7ms/step - loss: 0.0024 - val_loss: 0.0046\n",
            "Epoch 9/100\n",
            "\u001b[1m29/29\u001b[0m \u001b[32m━━━━━━━━━━━━━━━━━━━━\u001b[0m\u001b[37m\u001b[0m \u001b[1m0s\u001b[0m 7ms/step - loss: 0.0021 - val_loss: 0.0031\n",
            "Epoch 10/100\n",
            "\u001b[1m29/29\u001b[0m \u001b[32m━━━━━━━━━━━━━━━━━━━━\u001b[0m\u001b[37m\u001b[0m \u001b[1m0s\u001b[0m 7ms/step - loss: 0.0021 - val_loss: 0.0017\n",
            "Epoch 11/100\n",
            "\u001b[1m29/29\u001b[0m \u001b[32m━━━━━━━━━━━━━━━━━━━━\u001b[0m\u001b[37m\u001b[0m \u001b[1m0s\u001b[0m 8ms/step - loss: 0.0026 - val_loss: 7.1188e-04\n",
            "Epoch 12/100\n",
            "\u001b[1m29/29\u001b[0m \u001b[32m━━━━━━━━━━━━━━━━━━━━\u001b[0m\u001b[37m\u001b[0m \u001b[1m0s\u001b[0m 7ms/step - loss: 0.0022 - val_loss: 0.0019\n",
            "Epoch 13/100\n",
            "\u001b[1m29/29\u001b[0m \u001b[32m━━━━━━━━━━━━━━━━━━━━\u001b[0m\u001b[37m\u001b[0m \u001b[1m0s\u001b[0m 6ms/step - loss: 0.0022 - val_loss: 0.0024\n",
            "Epoch 14/100\n",
            "\u001b[1m29/29\u001b[0m \u001b[32m━━━━━━━━━━━━━━━━━━━━\u001b[0m\u001b[37m\u001b[0m \u001b[1m0s\u001b[0m 7ms/step - loss: 0.0021 - val_loss: 0.0018\n",
            "Epoch 15/100\n",
            "\u001b[1m29/29\u001b[0m \u001b[32m━━━━━━━━━━━━━━━━━━━━\u001b[0m\u001b[37m\u001b[0m \u001b[1m0s\u001b[0m 7ms/step - loss: 0.0025 - val_loss: 0.0016\n",
            "Epoch 16/100\n",
            "\u001b[1m29/29\u001b[0m \u001b[32m━━━━━━━━━━━━━━━━━━━━\u001b[0m\u001b[37m\u001b[0m \u001b[1m0s\u001b[0m 7ms/step - loss: 0.0016 - val_loss: 0.0033\n",
            "Epoch 17/100\n",
            "\u001b[1m29/29\u001b[0m \u001b[32m━━━━━━━━━━━━━━━━━━━━\u001b[0m\u001b[37m\u001b[0m \u001b[1m0s\u001b[0m 6ms/step - loss: 0.0021 - val_loss: 0.0012\n",
            "Epoch 18/100\n",
            "\u001b[1m29/29\u001b[0m \u001b[32m━━━━━━━━━━━━━━━━━━━━\u001b[0m\u001b[37m\u001b[0m \u001b[1m0s\u001b[0m 7ms/step - loss: 0.0018 - val_loss: 0.0015\n",
            "Epoch 19/100\n",
            "\u001b[1m29/29\u001b[0m \u001b[32m━━━━━━━━━━━━━━━━━━━━\u001b[0m\u001b[37m\u001b[0m \u001b[1m0s\u001b[0m 9ms/step - loss: 0.0020 - val_loss: 0.0011\n",
            "Epoch 20/100\n",
            "\u001b[1m29/29\u001b[0m \u001b[32m━━━━━━━━━━━━━━━━━━━━\u001b[0m\u001b[37m\u001b[0m \u001b[1m0s\u001b[0m 7ms/step - loss: 0.0019 - val_loss: 0.0019\n",
            "Epoch 21/100\n",
            "\u001b[1m29/29\u001b[0m \u001b[32m━━━━━━━━━━━━━━━━━━━━\u001b[0m\u001b[37m\u001b[0m \u001b[1m0s\u001b[0m 6ms/step - loss: 0.0019 - val_loss: 0.0025\n",
            "Epoch 22/100\n",
            "\u001b[1m29/29\u001b[0m \u001b[32m━━━━━━━━━━━━━━━━━━━━\u001b[0m\u001b[37m\u001b[0m \u001b[1m0s\u001b[0m 8ms/step - loss: 0.0017 - val_loss: 0.0025\n",
            "Epoch 23/100\n",
            "\u001b[1m29/29\u001b[0m \u001b[32m━━━━━━━━━━━━━━━━━━━━\u001b[0m\u001b[37m\u001b[0m \u001b[1m0s\u001b[0m 7ms/step - loss: 0.0016 - val_loss: 9.1072e-04\n",
            "Epoch 24/100\n",
            "\u001b[1m29/29\u001b[0m \u001b[32m━━━━━━━━━━━━━━━━━━━━\u001b[0m\u001b[37m\u001b[0m \u001b[1m0s\u001b[0m 7ms/step - loss: 0.0020 - val_loss: 0.0012\n",
            "Epoch 25/100\n",
            "\u001b[1m29/29\u001b[0m \u001b[32m━━━━━━━━━━━━━━━━━━━━\u001b[0m\u001b[37m\u001b[0m \u001b[1m0s\u001b[0m 9ms/step - loss: 0.0022 - val_loss: 0.0016\n",
            "Epoch 26/100\n",
            "\u001b[1m29/29\u001b[0m \u001b[32m━━━━━━━━━━━━━━━━━━━━\u001b[0m\u001b[37m\u001b[0m \u001b[1m0s\u001b[0m 9ms/step - loss: 0.0018 - val_loss: 0.0022\n",
            "Epoch 27/100\n",
            "\u001b[1m29/29\u001b[0m \u001b[32m━━━━━━━━━━━━━━━━━━━━\u001b[0m\u001b[37m\u001b[0m \u001b[1m0s\u001b[0m 8ms/step - loss: 0.0021 - val_loss: 0.0025\n",
            "Epoch 28/100\n",
            "\u001b[1m29/29\u001b[0m \u001b[32m━━━━━━━━━━━━━━━━━━━━\u001b[0m\u001b[37m\u001b[0m \u001b[1m0s\u001b[0m 9ms/step - loss: 0.0022 - val_loss: 9.3514e-04\n",
            "Epoch 29/100\n",
            "\u001b[1m29/29\u001b[0m \u001b[32m━━━━━━━━━━━━━━━━━━━━\u001b[0m\u001b[37m\u001b[0m \u001b[1m0s\u001b[0m 13ms/step - loss: 0.0020 - val_loss: 6.8379e-04\n",
            "Epoch 30/100\n",
            "\u001b[1m29/29\u001b[0m \u001b[32m━━━━━━━━━━━━━━━━━━━━\u001b[0m\u001b[37m\u001b[0m \u001b[1m0s\u001b[0m 10ms/step - loss: 0.0013 - val_loss: 9.7159e-04\n",
            "Epoch 31/100\n",
            "\u001b[1m29/29\u001b[0m \u001b[32m━━━━━━━━━━━━━━━━━━━━\u001b[0m\u001b[37m\u001b[0m \u001b[1m1s\u001b[0m 13ms/step - loss: 0.0021 - val_loss: 0.0011\n",
            "Epoch 32/100\n",
            "\u001b[1m29/29\u001b[0m \u001b[32m━━━━━━━━━━━━━━━━━━━━\u001b[0m\u001b[37m\u001b[0m \u001b[1m0s\u001b[0m 13ms/step - loss: 0.0015 - val_loss: 0.0016\n",
            "Epoch 33/100\n",
            "\u001b[1m29/29\u001b[0m \u001b[32m━━━━━━━━━━━━━━━━━━━━\u001b[0m\u001b[37m\u001b[0m \u001b[1m1s\u001b[0m 15ms/step - loss: 0.0014 - val_loss: 0.0013\n",
            "Epoch 34/100\n",
            "\u001b[1m29/29\u001b[0m \u001b[32m━━━━━━━━━━━━━━━━━━━━\u001b[0m\u001b[37m\u001b[0m \u001b[1m0s\u001b[0m 15ms/step - loss: 0.0016 - val_loss: 9.1206e-04\n",
            "Epoch 35/100\n",
            "\u001b[1m29/29\u001b[0m \u001b[32m━━━━━━━━━━━━━━━━━━━━\u001b[0m\u001b[37m\u001b[0m \u001b[1m1s\u001b[0m 14ms/step - loss: 0.0019 - val_loss: 0.0022\n",
            "Epoch 36/100\n",
            "\u001b[1m29/29\u001b[0m \u001b[32m━━━━━━━━━━━━━━━━━━━━\u001b[0m\u001b[37m\u001b[0m \u001b[1m1s\u001b[0m 16ms/step - loss: 0.0016 - val_loss: 0.0016\n",
            "Epoch 37/100\n",
            "\u001b[1m29/29\u001b[0m \u001b[32m━━━━━━━━━━━━━━━━━━━━\u001b[0m\u001b[37m\u001b[0m \u001b[1m1s\u001b[0m 16ms/step - loss: 0.0018 - val_loss: 0.0018\n",
            "Epoch 38/100\n",
            "\u001b[1m29/29\u001b[0m \u001b[32m━━━━━━━━━━━━━━━━━━━━\u001b[0m\u001b[37m\u001b[0m \u001b[1m1s\u001b[0m 17ms/step - loss: 0.0016 - val_loss: 0.0023\n",
            "Epoch 39/100\n",
            "\u001b[1m29/29\u001b[0m \u001b[32m━━━━━━━━━━━━━━━━━━━━\u001b[0m\u001b[37m\u001b[0m \u001b[1m1s\u001b[0m 15ms/step - loss: 0.0016 - val_loss: 0.0015\n",
            "Epoch 40/100\n",
            "\u001b[1m29/29\u001b[0m \u001b[32m━━━━━━━━━━━━━━━━━━━━\u001b[0m\u001b[37m\u001b[0m \u001b[1m0s\u001b[0m 10ms/step - loss: 0.0015 - val_loss: 0.0017\n",
            "Epoch 41/100\n",
            "\u001b[1m29/29\u001b[0m \u001b[32m━━━━━━━━━━━━━━━━━━━━\u001b[0m\u001b[37m\u001b[0m \u001b[1m0s\u001b[0m 8ms/step - loss: 0.0020 - val_loss: 0.0011\n",
            "Epoch 42/100\n",
            "\u001b[1m29/29\u001b[0m \u001b[32m━━━━━━━━━━━━━━━━━━━━\u001b[0m\u001b[37m\u001b[0m \u001b[1m0s\u001b[0m 8ms/step - loss: 0.0015 - val_loss: 9.4003e-04\n",
            "Epoch 43/100\n",
            "\u001b[1m29/29\u001b[0m \u001b[32m━━━━━━━━━━━━━━━━━━━━\u001b[0m\u001b[37m\u001b[0m \u001b[1m0s\u001b[0m 7ms/step - loss: 0.0016 - val_loss: 0.0015\n",
            "Epoch 44/100\n",
            "\u001b[1m29/29\u001b[0m \u001b[32m━━━━━━━━━━━━━━━━━━━━\u001b[0m\u001b[37m\u001b[0m \u001b[1m0s\u001b[0m 7ms/step - loss: 0.0014 - val_loss: 8.9809e-04\n",
            "Epoch 45/100\n",
            "\u001b[1m29/29\u001b[0m \u001b[32m━━━━━━━━━━━━━━━━━━━━\u001b[0m\u001b[37m\u001b[0m \u001b[1m0s\u001b[0m 8ms/step - loss: 0.0017 - val_loss: 8.9803e-04\n",
            "Epoch 46/100\n",
            "\u001b[1m29/29\u001b[0m \u001b[32m━━━━━━━━━━━━━━━━━━━━\u001b[0m\u001b[37m\u001b[0m \u001b[1m0s\u001b[0m 8ms/step - loss: 0.0014 - val_loss: 0.0036\n",
            "Epoch 47/100\n",
            "\u001b[1m29/29\u001b[0m \u001b[32m━━━━━━━━━━━━━━━━━━━━\u001b[0m\u001b[37m\u001b[0m \u001b[1m0s\u001b[0m 8ms/step - loss: 0.0016 - val_loss: 5.6473e-04\n",
            "Epoch 48/100\n",
            "\u001b[1m29/29\u001b[0m \u001b[32m━━━━━━━━━━━━━━━━━━━━\u001b[0m\u001b[37m\u001b[0m \u001b[1m0s\u001b[0m 8ms/step - loss: 0.0018 - val_loss: 9.3399e-04\n",
            "Epoch 49/100\n",
            "\u001b[1m29/29\u001b[0m \u001b[32m━━━━━━━━━━━━━━━━━━━━\u001b[0m\u001b[37m\u001b[0m \u001b[1m0s\u001b[0m 8ms/step - loss: 0.0021 - val_loss: 7.0809e-04\n",
            "Epoch 50/100\n",
            "\u001b[1m29/29\u001b[0m \u001b[32m━━━━━━━━━━━━━━━━━━━━\u001b[0m\u001b[37m\u001b[0m \u001b[1m0s\u001b[0m 8ms/step - loss: 0.0016 - val_loss: 0.0030\n",
            "Epoch 51/100\n",
            "\u001b[1m29/29\u001b[0m \u001b[32m━━━━━━━━━━━━━━━━━━━━\u001b[0m\u001b[37m\u001b[0m \u001b[1m0s\u001b[0m 7ms/step - loss: 0.0021 - val_loss: 0.0013\n",
            "Epoch 52/100\n",
            "\u001b[1m29/29\u001b[0m \u001b[32m━━━━━━━━━━━━━━━━━━━━\u001b[0m\u001b[37m\u001b[0m \u001b[1m0s\u001b[0m 8ms/step - loss: 0.0014 - val_loss: 0.0017\n",
            "Epoch 53/100\n",
            "\u001b[1m29/29\u001b[0m \u001b[32m━━━━━━━━━━━━━━━━━━━━\u001b[0m\u001b[37m\u001b[0m \u001b[1m0s\u001b[0m 9ms/step - loss: 0.0015 - val_loss: 8.2941e-04\n",
            "Epoch 54/100\n",
            "\u001b[1m29/29\u001b[0m \u001b[32m━━━━━━━━━━━━━━━━━━━━\u001b[0m\u001b[37m\u001b[0m \u001b[1m0s\u001b[0m 8ms/step - loss: 0.0017 - val_loss: 0.0019\n",
            "Epoch 55/100\n",
            "\u001b[1m29/29\u001b[0m \u001b[32m━━━━━━━━━━━━━━━━━━━━\u001b[0m\u001b[37m\u001b[0m \u001b[1m0s\u001b[0m 7ms/step - loss: 0.0011 - val_loss: 7.9379e-04\n",
            "Epoch 56/100\n",
            "\u001b[1m29/29\u001b[0m \u001b[32m━━━━━━━━━━━━━━━━━━━━\u001b[0m\u001b[37m\u001b[0m \u001b[1m0s\u001b[0m 6ms/step - loss: 0.0016 - val_loss: 6.9602e-04\n",
            "Epoch 57/100\n",
            "\u001b[1m29/29\u001b[0m \u001b[32m━━━━━━━━━━━━━━━━━━━━\u001b[0m\u001b[37m\u001b[0m \u001b[1m0s\u001b[0m 8ms/step - loss: 0.0012 - val_loss: 6.4301e-04\n",
            "Epoch 58/100\n",
            "\u001b[1m29/29\u001b[0m \u001b[32m━━━━━━━━━━━━━━━━━━━━\u001b[0m\u001b[37m\u001b[0m \u001b[1m0s\u001b[0m 7ms/step - loss: 0.0018 - val_loss: 0.0017\n",
            "Epoch 59/100\n",
            "\u001b[1m29/29\u001b[0m \u001b[32m━━━━━━━━━━━━━━━━━━━━\u001b[0m\u001b[37m\u001b[0m \u001b[1m0s\u001b[0m 7ms/step - loss: 0.0012 - val_loss: 0.0010\n",
            "Epoch 60/100\n",
            "\u001b[1m29/29\u001b[0m \u001b[32m━━━━━━━━━━━━━━━━━━━━\u001b[0m\u001b[37m\u001b[0m \u001b[1m0s\u001b[0m 8ms/step - loss: 0.0016 - val_loss: 7.4374e-04\n",
            "Epoch 61/100\n",
            "\u001b[1m29/29\u001b[0m \u001b[32m━━━━━━━━━━━━━━━━━━━━\u001b[0m\u001b[37m\u001b[0m \u001b[1m0s\u001b[0m 6ms/step - loss: 0.0011 - val_loss: 0.0010\n",
            "Epoch 62/100\n",
            "\u001b[1m29/29\u001b[0m \u001b[32m━━━━━━━━━━━━━━━━━━━━\u001b[0m\u001b[37m\u001b[0m \u001b[1m0s\u001b[0m 7ms/step - loss: 0.0013 - val_loss: 0.0012\n",
            "Epoch 63/100\n",
            "\u001b[1m29/29\u001b[0m \u001b[32m━━━━━━━━━━━━━━━━━━━━\u001b[0m\u001b[37m\u001b[0m \u001b[1m0s\u001b[0m 8ms/step - loss: 0.0011 - val_loss: 0.0020\n",
            "Epoch 64/100\n",
            "\u001b[1m29/29\u001b[0m \u001b[32m━━━━━━━━━━━━━━━━━━━━\u001b[0m\u001b[37m\u001b[0m \u001b[1m0s\u001b[0m 10ms/step - loss: 0.0013 - val_loss: 0.0012\n",
            "Epoch 65/100\n",
            "\u001b[1m29/29\u001b[0m \u001b[32m━━━━━━━━━━━━━━━━━━━━\u001b[0m\u001b[37m\u001b[0m \u001b[1m0s\u001b[0m 7ms/step - loss: 0.0015 - val_loss: 8.5034e-04\n",
            "Epoch 66/100\n",
            "\u001b[1m29/29\u001b[0m \u001b[32m━━━━━━━━━━━━━━━━━━━━\u001b[0m\u001b[37m\u001b[0m \u001b[1m0s\u001b[0m 7ms/step - loss: 0.0010 - val_loss: 6.8719e-04\n",
            "Epoch 67/100\n",
            "\u001b[1m29/29\u001b[0m \u001b[32m━━━━━━━━━━━━━━━━━━━━\u001b[0m\u001b[37m\u001b[0m \u001b[1m0s\u001b[0m 10ms/step - loss: 0.0013 - val_loss: 0.0022\n",
            "Epoch 68/100\n",
            "\u001b[1m29/29\u001b[0m \u001b[32m━━━━━━━━━━━━━━━━━━━━\u001b[0m\u001b[37m\u001b[0m \u001b[1m1s\u001b[0m 9ms/step - loss: 0.0014 - val_loss: 9.5253e-04\n",
            "Epoch 69/100\n",
            "\u001b[1m29/29\u001b[0m \u001b[32m━━━━━━━━━━━━━━━━━━━━\u001b[0m\u001b[37m\u001b[0m \u001b[1m0s\u001b[0m 7ms/step - loss: 0.0012 - val_loss: 0.0010\n",
            "Epoch 70/100\n",
            "\u001b[1m29/29\u001b[0m \u001b[32m━━━━━━━━━━━━━━━━━━━━\u001b[0m\u001b[37m\u001b[0m \u001b[1m0s\u001b[0m 7ms/step - loss: 9.7793e-04 - val_loss: 0.0011\n",
            "Epoch 71/100\n",
            "\u001b[1m29/29\u001b[0m \u001b[32m━━━━━━━━━━━━━━━━━━━━\u001b[0m\u001b[37m\u001b[0m \u001b[1m0s\u001b[0m 7ms/step - loss: 0.0011 - val_loss: 9.2760e-04\n",
            "Epoch 72/100\n",
            "\u001b[1m29/29\u001b[0m \u001b[32m━━━━━━━━━━━━━━━━━━━━\u001b[0m\u001b[37m\u001b[0m \u001b[1m0s\u001b[0m 8ms/step - loss: 0.0014 - val_loss: 8.6046e-04\n",
            "Epoch 73/100\n",
            "\u001b[1m29/29\u001b[0m \u001b[32m━━━━━━━━━━━━━━━━━━━━\u001b[0m\u001b[37m\u001b[0m \u001b[1m0s\u001b[0m 9ms/step - loss: 0.0012 - val_loss: 0.0012\n",
            "Epoch 74/100\n",
            "\u001b[1m29/29\u001b[0m \u001b[32m━━━━━━━━━━━━━━━━━━━━\u001b[0m\u001b[37m\u001b[0m \u001b[1m0s\u001b[0m 7ms/step - loss: 0.0010 - val_loss: 0.0040\n",
            "Epoch 75/100\n",
            "\u001b[1m29/29\u001b[0m \u001b[32m━━━━━━━━━━━━━━━━━━━━\u001b[0m\u001b[37m\u001b[0m \u001b[1m0s\u001b[0m 13ms/step - loss: 0.0015 - val_loss: 9.2983e-04\n",
            "Epoch 76/100\n",
            "\u001b[1m29/29\u001b[0m \u001b[32m━━━━━━━━━━━━━━━━━━━━\u001b[0m\u001b[37m\u001b[0m \u001b[1m0s\u001b[0m 14ms/step - loss: 0.0011 - val_loss: 0.0024\n",
            "Epoch 77/100\n",
            "\u001b[1m29/29\u001b[0m \u001b[32m━━━━━━━━━━━━━━━━━━━━\u001b[0m\u001b[37m\u001b[0m \u001b[1m0s\u001b[0m 11ms/step - loss: 0.0012 - val_loss: 0.0024\n",
            "Epoch 78/100\n",
            "\u001b[1m29/29\u001b[0m \u001b[32m━━━━━━━━━━━━━━━━━━━━\u001b[0m\u001b[37m\u001b[0m \u001b[1m0s\u001b[0m 12ms/step - loss: 0.0012 - val_loss: 0.0015\n",
            "Epoch 79/100\n",
            "\u001b[1m29/29\u001b[0m \u001b[32m━━━━━━━━━━━━━━━━━━━━\u001b[0m\u001b[37m\u001b[0m \u001b[1m0s\u001b[0m 12ms/step - loss: 0.0011 - val_loss: 0.0015\n",
            "Epoch 80/100\n",
            "\u001b[1m29/29\u001b[0m \u001b[32m━━━━━━━━━━━━━━━━━━━━\u001b[0m\u001b[37m\u001b[0m \u001b[1m1s\u001b[0m 12ms/step - loss: 9.0368e-04 - val_loss: 0.0012\n",
            "Epoch 81/100\n",
            "\u001b[1m29/29\u001b[0m \u001b[32m━━━━━━━━━━━━━━━━━━━━\u001b[0m\u001b[37m\u001b[0m \u001b[1m0s\u001b[0m 11ms/step - loss: 0.0015 - val_loss: 0.0011\n",
            "Epoch 82/100\n",
            "\u001b[1m29/29\u001b[0m \u001b[32m━━━━━━━━━━━━━━━━━━━━\u001b[0m\u001b[37m\u001b[0m \u001b[1m1s\u001b[0m 11ms/step - loss: 0.0011 - val_loss: 0.0011\n",
            "Epoch 83/100\n",
            "\u001b[1m29/29\u001b[0m \u001b[32m━━━━━━━━━━━━━━━━━━━━\u001b[0m\u001b[37m\u001b[0m \u001b[1m1s\u001b[0m 10ms/step - loss: 0.0011 - val_loss: 5.0727e-04\n",
            "Epoch 84/100\n",
            "\u001b[1m29/29\u001b[0m \u001b[32m━━━━━━━━━━━━━━━━━━━━\u001b[0m\u001b[37m\u001b[0m \u001b[1m1s\u001b[0m 7ms/step - loss: 9.8968e-04 - val_loss: 0.0024\n",
            "Epoch 85/100\n",
            "\u001b[1m29/29\u001b[0m \u001b[32m━━━━━━━━━━━━━━━━━━━━\u001b[0m\u001b[37m\u001b[0m \u001b[1m0s\u001b[0m 7ms/step - loss: 0.0011 - val_loss: 0.0025\n",
            "Epoch 86/100\n",
            "\u001b[1m29/29\u001b[0m \u001b[32m━━━━━━━━━━━━━━━━━━━━\u001b[0m\u001b[37m\u001b[0m \u001b[1m0s\u001b[0m 7ms/step - loss: 0.0011 - val_loss: 9.2052e-04\n",
            "Epoch 87/100\n",
            "\u001b[1m29/29\u001b[0m \u001b[32m━━━━━━━━━━━━━━━━━━━━\u001b[0m\u001b[37m\u001b[0m \u001b[1m0s\u001b[0m 10ms/step - loss: 0.0012 - val_loss: 0.0019\n",
            "Epoch 88/100\n",
            "\u001b[1m29/29\u001b[0m \u001b[32m━━━━━━━━━━━━━━━━━━━━\u001b[0m\u001b[37m\u001b[0m \u001b[1m0s\u001b[0m 9ms/step - loss: 9.3697e-04 - val_loss: 0.0020\n",
            "Epoch 89/100\n",
            "\u001b[1m29/29\u001b[0m \u001b[32m━━━━━━━━━━━━━━━━━━━━\u001b[0m\u001b[37m\u001b[0m \u001b[1m0s\u001b[0m 7ms/step - loss: 0.0012 - val_loss: 0.0015\n",
            "Epoch 90/100\n",
            "\u001b[1m29/29\u001b[0m \u001b[32m━━━━━━━━━━━━━━━━━━━━\u001b[0m\u001b[37m\u001b[0m \u001b[1m0s\u001b[0m 6ms/step - loss: 0.0011 - val_loss: 4.7986e-04\n",
            "Epoch 91/100\n",
            "\u001b[1m29/29\u001b[0m \u001b[32m━━━━━━━━━━━━━━━━━━━━\u001b[0m\u001b[37m\u001b[0m \u001b[1m0s\u001b[0m 9ms/step - loss: 0.0013 - val_loss: 0.0025\n",
            "Epoch 92/100\n",
            "\u001b[1m29/29\u001b[0m \u001b[32m━━━━━━━━━━━━━━━━━━━━\u001b[0m\u001b[37m\u001b[0m \u001b[1m0s\u001b[0m 7ms/step - loss: 0.0011 - val_loss: 0.0014\n",
            "Epoch 93/100\n",
            "\u001b[1m29/29\u001b[0m \u001b[32m━━━━━━━━━━━━━━━━━━━━\u001b[0m\u001b[37m\u001b[0m \u001b[1m0s\u001b[0m 7ms/step - loss: 9.3470e-04 - val_loss: 0.0025\n",
            "Epoch 94/100\n",
            "\u001b[1m29/29\u001b[0m \u001b[32m━━━━━━━━━━━━━━━━━━━━\u001b[0m\u001b[37m\u001b[0m \u001b[1m0s\u001b[0m 7ms/step - loss: 0.0011 - val_loss: 0.0020\n",
            "Epoch 95/100\n",
            "\u001b[1m29/29\u001b[0m \u001b[32m━━━━━━━━━━━━━━━━━━━━\u001b[0m\u001b[37m\u001b[0m \u001b[1m0s\u001b[0m 8ms/step - loss: 0.0013 - val_loss: 0.0011\n",
            "Epoch 96/100\n",
            "\u001b[1m29/29\u001b[0m \u001b[32m━━━━━━━━━━━━━━━━━━━━\u001b[0m\u001b[37m\u001b[0m \u001b[1m0s\u001b[0m 7ms/step - loss: 9.8181e-04 - val_loss: 0.0014\n",
            "Epoch 97/100\n",
            "\u001b[1m29/29\u001b[0m \u001b[32m━━━━━━━━━━━━━━━━━━━━\u001b[0m\u001b[37m\u001b[0m \u001b[1m0s\u001b[0m 7ms/step - loss: 0.0012 - val_loss: 6.4667e-04\n",
            "Epoch 98/100\n",
            "\u001b[1m29/29\u001b[0m \u001b[32m━━━━━━━━━━━━━━━━━━━━\u001b[0m\u001b[37m\u001b[0m \u001b[1m0s\u001b[0m 7ms/step - loss: 0.0011 - val_loss: 7.8428e-04\n",
            "Epoch 99/100\n",
            "\u001b[1m29/29\u001b[0m \u001b[32m━━━━━━━━━━━━━━━━━━━━\u001b[0m\u001b[37m\u001b[0m \u001b[1m0s\u001b[0m 8ms/step - loss: 0.0011 - val_loss: 0.0010\n",
            "Epoch 100/100\n",
            "\u001b[1m29/29\u001b[0m \u001b[32m━━━━━━━━━━━━━━━━━━━━\u001b[0m\u001b[37m\u001b[0m \u001b[1m0s\u001b[0m 9ms/step - loss: 9.5973e-04 - val_loss: 4.7317e-04\n"
          ]
        }
      ]
    },
    {
      "cell_type": "markdown",
      "metadata": {
        "id": "dc4c8291"
      },
      "source": [
        "**Loss Visualization**\n",
        "\n",
        "- untuk membandingkan perubahan nilai loss dan val loss selama proses pelatihan.\n",
        "- membantu dalam mengevaluasi kinerja model terhadap data pelatihan dan data validasi."
      ]
    },
    {
      "cell_type": "code",
      "source": [
        "plt.figure(figsize=(9, 6))\n",
        "plt.plot(history.history['loss'], label='Training Loss', color=\"red\")\n",
        "plt.plot(history.history['val_loss'], label='Validation Loss', color=\"blue\")\n",
        "plt.title('Training dan Validation Loss')\n",
        "plt.xlabel('Epoch')\n",
        "plt.ylabel('Loss')\n",
        "plt.legend()\n",
        "plt.show()"
      ],
      "metadata": {
        "colab": {
          "base_uri": "https://localhost:8080/",
          "height": 564
        },
        "id": "qr9PtGUfAJr1",
        "outputId": "853a9fb2-beb8-4f9e-a3f9-2bdb4593445e"
      },
      "execution_count": null,
      "outputs": [
        {
          "output_type": "display_data",
          "data": {
            "text/plain": [
              "<Figure size 900x600 with 1 Axes>"
            ],
            "image/png": "[encoded data removed]"
          },
          "metadata": {}
        }
      ]
    },
    {
      "cell_type": "markdown",
      "metadata": {
        "id": "936699ad"
      },
      "source": [
        "pada grafik diatas nilai loss pada data training dan data validasi sama-sama menurun seiring dengan bertambahnya jumlah epoch, maka dapat dikatakan model tersebut memperlihatkan performa yang baik dalam melakukan prediksi harga TBS."
      ]
    },
    {
      "cell_type": "markdown",
      "metadata": {
        "id": "9eb05022"
      },
      "source": [
        "## Pengujian Model\n",
        "\n",
        "Kemudian dilakukan prediksi pada data testing (2024), lalu dilakukan invers scalinng agar data dapat ditampilkan dalam satuan yang sesuai dengan konteks awal."
      ]
    },
    {
      "cell_type": "code",
      "source": [
        "# Prediksi pada data uji (2024)\n",
        "predictions = model.predict(X_test)\n",
        "\n",
        "# Kembalikan ke skala asli\n",
        "Y_test_actual = scaler.inverse_transform(np.hstack((np.zeros((len(Y_test), len(input_features))), Y_test.reshape(-1, 1))))[:, -1]\n",
        "predictions_actual = scaler.inverse_transform(np.hstack((np.zeros((len(predictions), len(input_features))), predictions)))[:, -1]\n",
        "\n",
        "# Ambil tanggal yang sesuai dengan data uji\n",
        "# Replace len(train) with len(df_train_main)\n",
        "# Ambil hanya data tahun 2024\n",
        "# Ambil tanggal dari df_test, tapi geser indeks berdasarkan look_back\n",
        "test_dates = df_test['Tanggal'].iloc[look_back:].reset_index(drop=True)\n",
        "\n",
        "# Membuat DataFrame perbandingan antara Harga Aktual dan Harga Prediksi\n",
        "df_comparison = pd.DataFrame({\n",
        "    \"Tanggal\": test_dates.values,\n",
        "    \"Harga Aktual\": Y_test_actual,\n",
        "    \"Harga Prediksi\": predictions_actual\n",
        "})\n",
        "\n",
        "print(\"Perbandingan Data Aktual dan Prediksi:\")\n",
        "print(df_comparison.head(50))"
      ],
      "metadata": {
        "colab": {
          "base_uri": "https://localhost:8080/"
        },
        "id": "T1WcYyFIAQ-H",
        "outputId": "ffbf31a7-0662-4b05-ebc1-413a06844c11"
      },
      "execution_count": null,
      "outputs": [
        {
          "output_type": "stream",
          "name": "stdout",
          "text": [
            "\u001b[1m2/2\u001b[0m \u001b[32m━━━━━━━━━━━━━━━━━━━━\u001b[0m\u001b[37m\u001b[0m \u001b[1m0s\u001b[0m 226ms/step\n",
            "Perbandingan Data Aktual dan Prediksi:\n",
            "      Tanggal  Harga Aktual  Harga Prediksi\n",
            "0  2024-01-24       2726.18     2668.096944\n",
            "1  2024-02-07       2639.42     2738.276227\n",
            "2  2024-02-14       2642.04     2679.307963\n",
            "3  2024-02-21       2664.75     2670.760320\n",
            "4  2024-02-28       2716.26     2679.460702\n",
            "5  2024-03-06       2762.97     2713.279535\n",
            "6  2024-03-20       2907.07     2772.552153\n",
            "7  2024-03-27       2956.83     2901.578689\n",
            "8  2024-04-03       2968.36     2970.039571\n",
            "9  2024-04-24       2912.28     3000.050801\n",
            "10 2024-05-01       2843.45     2993.061520\n",
            "11 2024-05-08       2806.33     2895.714357\n",
            "12 2024-05-15       2820.89     2820.677112\n",
            "13 2024-05-22       2819.55     2819.133256\n",
            "14 2024-05-29       2847.70     2827.930315\n",
            "15 2024-06-05       2914.91     2859.224472\n",
            "16 2024-06-12       2899.39     2912.960322\n",
            "17 2024-06-19       2924.72     2908.700867\n",
            "18 2024-06-26       2965.32     2927.995698\n",
            "19 2024-07-03       2969.51     2966.154475\n",
            "20 2024-07-10       3075.36     2985.172281\n",
            "21 2024-07-17       3015.14     3086.065746\n",
            "22 2024-07-24       2995.22     3050.186815\n",
            "23 2024-07-31       3027.87     3013.759075\n",
            "24 2024-08-07       3097.17     3048.845487\n",
            "25 2024-08-14       3102.60     3113.907191\n",
            "26 2024-08-21       3028.26     3129.022306\n",
            "27 2024-08-28       3047.73     3058.985372\n",
            "28 2024-09-04       3158.10     3053.850291\n",
            "29 2024-09-11       3174.06     3162.522186\n",
            "30 2024-09-18       3154.27     3203.740223\n",
            "31 2024-09-25       3190.48     3174.177475\n",
            "32 2024-10-02       3203.22     3202.735443\n",
            "33 2024-10-09       3340.10     3263.079851\n",
            "34 2024-10-16       3336.43     3332.920246\n",
            "35 2024-10-23       3339.31     3341.332464\n",
            "36 2024-10-30       3398.40     3327.212021\n",
            "37 2024-11-06       3513.79     3394.644166\n",
            "38 2024-11-13       3654.40     3492.973647\n",
            "39 2024-11-20       3703.46     3644.065270\n",
            "40 2024-11-27       3668.47     3709.274845\n",
            "41 2024-12-04       3709.19     3709.107881\n",
            "42 2024-12-11       3824.03     3728.598128\n",
            "43 2024-12-18       3819.14     3819.574452\n",
            "44 2024-12-25       3699.75     3836.172028\n"
          ]
        }
      ]
    },
    {
      "cell_type": "markdown",
      "metadata": {
        "id": "03a2e2b4"
      },
      "source": [
        "**Grafik Perbandingan Harga TBS Aktual dan Prediksi**"
      ]
    },
    {
      "cell_type": "code",
      "source": [
        "# Visualisasi hasil\n",
        "plt.figure(figsize=(9, 6))\n",
        "plt.plot(Y_test_actual, label='Harga TBS Aktual', color='blue')\n",
        "plt.plot(predictions_actual, label='Harga TBS Prediksi', color='red')\n",
        "plt.title('Harga TBS - Aktual vs Prediksi')\n",
        "plt.xlabel('Time')\n",
        "plt.ylabel('Harga TBS')\n",
        "plt.legend()\n",
        "plt.show()"
      ],
      "metadata": {
        "colab": {
          "base_uri": "https://localhost:8080/",
          "height": 564
        },
        "id": "tEw_PpYfBCln",
        "outputId": "686a8cab-4f28-4303-a2ed-e828f0e2d8fd"
      },
      "execution_count": null,
      "outputs": [
        {
          "output_type": "display_data",
          "data": {
            "text/plain": [
              "<Figure size 900x600 with 1 Axes>"
            ],
            "image/png": "[encoded data removed]"
          },
          "metadata": {}
        }
      ]
    },
    {
      "cell_type": "markdown",
      "source": [
        "## Evaluasi Model\n",
        "\n",
        "Kemudian akan dilakukan evaluasi menggunakan metrik evaluasi MSE, RMSE, MAE dan MAPE."
      ],
      "metadata": {
        "id": "qe4zaDPpYHB3"
      }
    },
    {
      "cell_type": "code",
      "source": [
        "# Evaluasi model\n",
        "mse = mean_squared_error(Y_test_actual, predictions_actual)\n",
        "mae = mean_absolute_error(Y_test_actual, predictions_actual)\n",
        "rmse = np.sqrt(mse)\n",
        "mape = np.mean(np.abs((Y_test_actual - predictions_actual) / Y_test_actual)) * 100\n",
        "\n",
        "print(f\"MSE: {mse}\")\n",
        "print(f\"RMSE: {rmse}\")\n",
        "print(f\"MAE: {mae}\")\n",
        "print(f\"MAPE: {mape}%\")"
      ],
      "metadata": {
        "colab": {
          "base_uri": "https://localhost:8080/"
        },
        "id": "4b-h7cyiYocS",
        "outputId": "de265a3f-af1f-454f-f755-3d4d9bd4a3cd"
      },
      "execution_count": null,
      "outputs": [
        {
          "output_type": "stream",
          "name": "stdout",
          "text": [
            "MSE: 4666.282667023737\n",
            "RMSE: 68.31019445898055\n",
            "MAE: 51.156552429265474\n",
            "MAPE: 1.6432509902539156%\n"
          ]
        }
      ]
    },
    {
      "cell_type": "markdown",
      "metadata": {
        "id": "84d74ac5"
      },
      "source": [
        "## Prediksi Harga TBS Untuk Periode Ke Depan\n",
        "\n",
        "Melakukan peramalan masa depan (future forecasting) menggunakan model yang telah dilatih. Tujuannya adalah untuk memberikan gambaran tentang prediksi nilai masa depan pada model yang telah dilatih, sehingga dapat digunakan sebagai acuan untuk pengambilan keputusan pada masa depan."
      ]
    },
    {
      "cell_type": "code",
      "source": [
        "# Prediksi Tren Masa Depan\n",
        "n_weeks = 52  # Prediksi 52 minggu ke depan\n",
        "future_predictions = []\n",
        "future_cpo = []\n",
        "future_kernel = []\n",
        "future_indeks_k = []\n",
        "\n",
        "# Ambil urutan data terakhir dari X_test sebagai input awal\n",
        "input_seq = X_test[-1]  # Mulai dari data uji terakhir\n",
        "\n",
        "# Define time_step using look_back\n",
        "time_step = look_back # or directly use look_back in the reshape method\n",
        "\n",
        "for i in range(n_weeks):\n",
        "    # Reshape input_seq using time_step\n",
        "    pred = model.predict(input_seq.reshape(1, time_step, len(input_features)))\n",
        "    # Updated to use input_features instead of relying on 'features'\n",
        "    # which was not defined.\n",
        "    future_predictions.append(pred.flatten())\n",
        "\n",
        "    # Simpan nilai input lainnya (CPO, Kernel, Indeks_K)\n",
        "    future_cpo.append(input_seq[-1, 0])  # Harga CPO\n",
        "    future_kernel.append(input_seq[-1, 1])  # Harga Kernel\n",
        "    future_indeks_k.append(input_seq[-1, 2])  # Indeks K\n",
        "\n",
        "    # Update input_seq untuk iterasi selanjutnya\n",
        "    new_input = np.hstack((input_seq[-1, 1:], pred.flatten()))  # Gabungkan input baru\n",
        "    input_seq = np.append(input_seq[1:], new_input.reshape(1, -1), axis=0)\n",
        "\n",
        "# Kembalikan prediksi masa depan ke skala asli\n",
        "# Create an array with the correct shape for inverse_transform\n",
        "future_predictions_data = np.zeros((n_weeks, len(input_features) + 1)) # +1 for the target feature\n",
        "future_predictions_data[:, :-1] = np.hstack((\n",
        "    np.array(future_cpo).reshape(-1, 1),\n",
        "    np.array(future_kernel).reshape(-1, 1),\n",
        "    np.array(future_indeks_k).reshape(-1, 1)\n",
        "))\n",
        "future_predictions_data[:, -1] = np.array(future_predictions).reshape(-1)\n",
        "\n",
        "future_predictions_scaled = scaler.inverse_transform(future_predictions_data)[:, -1]\n",
        "\n",
        "# Inverse transform untuk Harga_CPO, Harga_Kernel, dan Indeks_K (No change needed here)\n",
        "future_features_scaled = scaler.inverse_transform(\n",
        "    np.hstack((\n",
        "        np.array(future_cpo).reshape(-1, 1),  # Harga_CPO\n",
        "        np.array(future_kernel).reshape(-1, 1),  # Harga_Kernel\n",
        "        np.array(future_indeks_k).reshape(-1, 1),  # Indeks_K\n",
        "        np.zeros((n_weeks, 1))  # Placeholder untuk Harga_TBS\n",
        "    ))\n",
        ")\n",
        "\n",
        "future_cpo_scaled = future_features_scaled[:, 0]\n",
        "future_kernel_scaled = future_features_scaled[:, 1]\n",
        "future_indeks_k_scaled = future_features_scaled[:, 2]\n",
        "\n",
        "# Format ulang data (opsional untuk angka dengan tanda pemisah ribuan)\n",
        "def format_value(value, decimal=2):\n",
        "    return f\"{value:,.{decimal}f}\"\n",
        "\n",
        "# Buat DataFrame untuk prediksi tren lengkap dengan Harga_CPO, Harga_Kernel, Indeks_K\n",
        "future_dates = pd.date_range(start=df['Tanggal'].iloc[-1], periods=n_weeks + 1, freq='W')[1:]\n",
        "df_future = pd.DataFrame({\n",
        "    'Tanggal': future_dates,\n",
        "    'Harga_CPO': [format_value(v) for v in future_cpo_scaled],\n",
        "    'Harga_Kernel': [format_value(v) for v in future_kernel_scaled],\n",
        "    'Indeks_K': [format_value(v, decimal=2) for v in future_indeks_k_scaled],\n",
        "    'Harga_TBS': future_predictions_scaled\n",
        "})\n",
        "\n",
        "# Tampilkan hasil prediksi tren masa depan\n",
        "print(\"Prediksi Tren Harga TBS untuk Tahun 2025:\")\n",
        "print(df_future.head(52))\n",
        "\n",
        "# Simpan ke dalam file CSV\n",
        "df_future.to_csv(\"/content/tren_harga_tbs_2025.csv\", index=False)\n",
        "\n",
        "print(\"Prediksi disimpan dalam file CSV: 'tren_harga_tbs_2025.csv'\")"
      ],
      "metadata": {
        "colab": {
          "base_uri": "https://localhost:8080/"
        },
        "id": "WTa7o2WrDBKJ",
        "outputId": "4d62a6e4-9a64-4922-adeb-2c7e6e88947b"
      },
      "execution_count": null,
      "outputs": [
        {
          "output_type": "stream",
          "name": "stdout",
          "text": [
            "\u001b[1m1/1\u001b[0m \u001b[32m━━━━━━━━━━━━━━━━━━━━\u001b[0m\u001b[37m\u001b[0m \u001b[1m0s\u001b[0m 165ms/step\n",
            "\u001b[1m1/1\u001b[0m \u001b[32m━━━━━━━━━━━━━━━━━━━━\u001b[0m\u001b[37m\u001b[0m \u001b[1m0s\u001b[0m 193ms/step\n",
            "\u001b[1m1/1\u001b[0m \u001b[32m━━━━━━━━━━━━━━━━━━━━\u001b[0m\u001b[37m\u001b[0m \u001b[1m0s\u001b[0m 146ms/step\n",
            "\u001b[1m1/1\u001b[0m \u001b[32m━━━━━━━━━━━━━━━━━━━━\u001b[0m\u001b[37m\u001b[0m \u001b[1m0s\u001b[0m 166ms/step\n",
            "\u001b[1m1/1\u001b[0m \u001b[32m━━━━━━━━━━━━━━━━━━━━\u001b[0m\u001b[37m\u001b[0m \u001b[1m0s\u001b[0m 70ms/step\n",
            "\u001b[1m1/1\u001b[0m \u001b[32m━━━━━━━━━━━━━━━━━━━━\u001b[0m\u001b[37m\u001b[0m \u001b[1m0s\u001b[0m 86ms/step\n",
            "\u001b[1m1/1\u001b[0m \u001b[32m━━━━━━━━━━━━━━━━━━━━\u001b[0m\u001b[37m\u001b[0m \u001b[1m0s\u001b[0m 99ms/step\n",
            "\u001b[1m1/1\u001b[0m \u001b[32m━━━━━━━━━━━━━━━━━━━━\u001b[0m\u001b[37m\u001b[0m \u001b[1m0s\u001b[0m 117ms/step\n",
            "\u001b[1m1/1\u001b[0m \u001b[32m━━━━━━━━━━━━━━━━━━━━\u001b[0m\u001b[37m\u001b[0m \u001b[1m0s\u001b[0m 151ms/step\n",
            "\u001b[1m1/1\u001b[0m \u001b[32m━━━━━━━━━━━━━━━━━━━━\u001b[0m\u001b[37m\u001b[0m \u001b[1m0s\u001b[0m 102ms/step\n",
            "\u001b[1m1/1\u001b[0m \u001b[32m━━━━━━━━━━━━━━━━━━━━\u001b[0m\u001b[37m\u001b[0m \u001b[1m0s\u001b[0m 129ms/step\n",
            "\u001b[1m1/1\u001b[0m \u001b[32m━━━━━━━━━━━━━━━━━━━━\u001b[0m\u001b[37m\u001b[0m \u001b[1m0s\u001b[0m 83ms/step\n",
            "\u001b[1m1/1\u001b[0m \u001b[32m━━━━━━━━━━━━━━━━━━━━\u001b[0m\u001b[37m\u001b[0m \u001b[1m0s\u001b[0m 101ms/step\n",
            "\u001b[1m1/1\u001b[0m \u001b[32m━━━━━━━━━━━━━━━━━━━━\u001b[0m\u001b[37m\u001b[0m \u001b[1m0s\u001b[0m 70ms/step\n",
            "\u001b[1m1/1\u001b[0m \u001b[32m━━━━━━━━━━━━━━━━━━━━\u001b[0m\u001b[37m\u001b[0m \u001b[1m0s\u001b[0m 140ms/step\n",
            "\u001b[1m1/1\u001b[0m \u001b[32m━━━━━━━━━━━━━━━━━━━━\u001b[0m\u001b[37m\u001b[0m \u001b[1m0s\u001b[0m 81ms/step\n",
            "\u001b[1m1/1\u001b[0m \u001b[32m━━━━━━━━━━━━━━━━━━━━\u001b[0m\u001b[37m\u001b[0m \u001b[1m0s\u001b[0m 65ms/step\n",
            "\u001b[1m1/1\u001b[0m \u001b[32m━━━━━━━━━━━━━━━━━━━━\u001b[0m\u001b[37m\u001b[0m \u001b[1m0s\u001b[0m 132ms/step\n",
            "\u001b[1m1/1\u001b[0m \u001b[32m━━━━━━━━━━━━━━━━━━━━\u001b[0m\u001b[37m\u001b[0m \u001b[1m0s\u001b[0m 233ms/step\n",
            "\u001b[1m1/1\u001b[0m \u001b[32m━━━━━━━━━━━━━━━━━━━━\u001b[0m\u001b[37m\u001b[0m \u001b[1m0s\u001b[0m 91ms/step\n",
            "\u001b[1m1/1\u001b[0m \u001b[32m━━━━━━━━━━━━━━━━━━━━\u001b[0m\u001b[37m\u001b[0m \u001b[1m0s\u001b[0m 79ms/step\n",
            "\u001b[1m1/1\u001b[0m \u001b[32m━━━━━━━━━━━━━━━━━━━━\u001b[0m\u001b[37m\u001b[0m \u001b[1m0s\u001b[0m 79ms/step\n",
            "\u001b[1m1/1\u001b[0m \u001b[32m━━━━━━━━━━━━━━━━━━━━\u001b[0m\u001b[37m\u001b[0m \u001b[1m0s\u001b[0m 123ms/step\n",
            "\u001b[1m1/1\u001b[0m \u001b[32m━━━━━━━━━━━━━━━━━━━━\u001b[0m\u001b[37m\u001b[0m \u001b[1m0s\u001b[0m 91ms/step\n",
            "\u001b[1m1/1\u001b[0m \u001b[32m━━━━━━━━━━━━━━━━━━━━\u001b[0m\u001b[37m\u001b[0m \u001b[1m0s\u001b[0m 107ms/step\n",
            "\u001b[1m1/1\u001b[0m \u001b[32m━━━━━━━━━━━━━━━━━━━━\u001b[0m\u001b[37m\u001b[0m \u001b[1m0s\u001b[0m 40ms/step\n",
            "\u001b[1m1/1\u001b[0m \u001b[32m━━━━━━━━━━━━━━━━━━━━\u001b[0m\u001b[37m\u001b[0m \u001b[1m0s\u001b[0m 121ms/step\n",
            "\u001b[1m1/1\u001b[0m \u001b[32m━━━━━━━━━━━━━━━━━━━━\u001b[0m\u001b[37m\u001b[0m \u001b[1m0s\u001b[0m 135ms/step\n",
            "\u001b[1m1/1\u001b[0m \u001b[32m━━━━━━━━━━━━━━━━━━━━\u001b[0m\u001b[37m\u001b[0m \u001b[1m0s\u001b[0m 98ms/step\n",
            "\u001b[1m1/1\u001b[0m \u001b[32m━━━━━━━━━━━━━━━━━━━━\u001b[0m\u001b[37m\u001b[0m \u001b[1m0s\u001b[0m 118ms/step\n",
            "\u001b[1m1/1\u001b[0m \u001b[32m━━━━━━━━━━━━━━━━━━━━\u001b[0m\u001b[37m\u001b[0m \u001b[1m0s\u001b[0m 174ms/step\n",
            "\u001b[1m1/1\u001b[0m \u001b[32m━━━━━━━━━━━━━━━━━━━━\u001b[0m\u001b[37m\u001b[0m \u001b[1m0s\u001b[0m 194ms/step\n",
            "\u001b[1m1/1\u001b[0m \u001b[32m━━━━━━━━━━━━━━━━━━━━\u001b[0m\u001b[37m\u001b[0m \u001b[1m0s\u001b[0m 110ms/step\n",
            "\u001b[1m1/1\u001b[0m \u001b[32m━━━━━━━━━━━━━━━━━━━━\u001b[0m\u001b[37m\u001b[0m \u001b[1m0s\u001b[0m 150ms/step\n",
            "\u001b[1m1/1\u001b[0m \u001b[32m━━━━━━━━━━━━━━━━━━━━\u001b[0m\u001b[37m\u001b[0m \u001b[1m0s\u001b[0m 130ms/step\n",
            "\u001b[1m1/1\u001b[0m \u001b[32m━━━━━━━━━━━━━━━━━━━━\u001b[0m\u001b[37m\u001b[0m \u001b[1m0s\u001b[0m 146ms/step\n",
            "\u001b[1m1/1\u001b[0m \u001b[32m━━━━━━━━━━━━━━━━━━━━\u001b[0m\u001b[37m\u001b[0m \u001b[1m0s\u001b[0m 128ms/step\n",
            "\u001b[1m1/1\u001b[0m \u001b[32m━━━━━━━━━━━━━━━━━━━━\u001b[0m\u001b[37m\u001b[0m \u001b[1m0s\u001b[0m 42ms/step\n",
            "\u001b[1m1/1\u001b[0m \u001b[32m━━━━━━━━━━━━━━━━━━━━\u001b[0m\u001b[37m\u001b[0m \u001b[1m0s\u001b[0m 42ms/step\n",
            "\u001b[1m1/1\u001b[0m \u001b[32m━━━━━━━━━━━━━━━━━━━━\u001b[0m\u001b[37m\u001b[0m \u001b[1m0s\u001b[0m 67ms/step\n",
            "\u001b[1m1/1\u001b[0m \u001b[32m━━━━━━━━━━━━━━━━━━━━\u001b[0m\u001b[37m\u001b[0m \u001b[1m0s\u001b[0m 69ms/step\n",
            "\u001b[1m1/1\u001b[0m \u001b[32m━━━━━━━━━━━━━━━━━━━━\u001b[0m\u001b[37m\u001b[0m \u001b[1m0s\u001b[0m 95ms/step\n",
            "\u001b[1m1/1\u001b[0m \u001b[32m━━━━━━━━━━━━━━━━━━━━\u001b[0m\u001b[37m\u001b[0m \u001b[1m0s\u001b[0m 72ms/step\n",
            "\u001b[1m1/1\u001b[0m \u001b[32m━━━━━━━━━━━━━━━━━━━━\u001b[0m\u001b[37m\u001b[0m \u001b[1m0s\u001b[0m 66ms/step\n",
            "\u001b[1m1/1\u001b[0m \u001b[32m━━━━━━━━━━━━━━━━━━━━\u001b[0m\u001b[37m\u001b[0m \u001b[1m0s\u001b[0m 66ms/step\n",
            "\u001b[1m1/1\u001b[0m \u001b[32m━━━━━━━━━━━━━━━━━━━━\u001b[0m\u001b[37m\u001b[0m \u001b[1m0s\u001b[0m 81ms/step\n",
            "\u001b[1m1/1\u001b[0m \u001b[32m━━━━━━━━━━━━━━━━━━━━\u001b[0m\u001b[37m\u001b[0m \u001b[1m0s\u001b[0m 86ms/step\n",
            "\u001b[1m1/1\u001b[0m \u001b[32m━━━━━━━━━━━━━━━━━━━━\u001b[0m\u001b[37m\u001b[0m \u001b[1m0s\u001b[0m 68ms/step\n",
            "\u001b[1m1/1\u001b[0m \u001b[32m━━━━━━━━━━━━━━━━━━━━\u001b[0m\u001b[37m\u001b[0m \u001b[1m0s\u001b[0m 71ms/step\n",
            "\u001b[1m1/1\u001b[0m \u001b[32m━━━━━━━━━━━━━━━━━━━━\u001b[0m\u001b[37m\u001b[0m \u001b[1m0s\u001b[0m 62ms/step\n",
            "\u001b[1m1/1\u001b[0m \u001b[32m━━━━━━━━━━━━━━━━━━━━\u001b[0m\u001b[37m\u001b[0m \u001b[1m0s\u001b[0m 57ms/step\n",
            "\u001b[1m1/1\u001b[0m \u001b[32m━━━━━━━━━━━━━━━━━━━━\u001b[0m\u001b[37m\u001b[0m \u001b[1m0s\u001b[0m 63ms/step\n",
            "Prediksi Tren Harga TBS untuk Tahun 2025:\n",
            "      Tanggal  Harga_CPO Harga_Kernel Indeks_K    Harga_TBS\n",
            "0  2025-01-05  15,639.51    11,866.30    93.30  3836.172402\n",
            "1  2025-01-12  15,060.27    14,091.00    92.06  3866.850739\n",
            "2  2025-01-19  17,431.07    12,604.06    92.15  4097.329658\n",
            "3  2025-01-26  15,846.48    12,715.70    92.85  3925.299019\n",
            "4  2025-02-02  15,965.45    13,554.40    92.33  3953.940843\n",
            "5  2025-02-09  16,859.23    12,928.39    92.42  4056.455657\n",
            "6  2025-02-16  16,192.11    13,032.61    92.73  3984.347395\n",
            "7  2025-02-23  16,303.18    13,405.66    92.51  4008.982831\n",
            "8  2025-03-02  16,700.72    13,143.26    92.59  4057.794364\n",
            "9  2025-03-09  16,421.09    13,232.91    92.73  4031.759200\n",
            "10 2025-03-16  16,516.63    13,410.53    92.65  4051.751088\n",
            "11 2025-03-23  16,705.91    13,315.79    92.71  4078.752847\n",
            "12 2025-03-30  16,604.95    13,388.54    92.80  4073.849119\n",
            "13 2025-04-06  16,682.48    13,486.80    92.78  4090.740567\n",
            "14 2025-04-13  16,787.19    13,468.95    92.83  4109.130573\n",
            "15 2025-04-20  16,768.17    13,530.42    92.89  4114.054516\n",
            "16 2025-04-27  16,833.68    13,597.34    92.90  4129.286805\n",
            "17 2025-05-04  16,904.99    13,615.26    92.95  4144.519094\n",
            "18 2025-05-11  16,924.09    13,670.69    93.00  4154.170440\n",
            "19 2025-05-18  16,983.16    13,726.12    93.03  4168.727760\n",
            "20 2025-05-25  17,042.23    13,761.24    93.07  4183.048485\n",
            "21 2025-06-01  17,079.65    13,814.21    93.11  4195.146642\n",
            "22 2025-06-08  17,136.11    13,866.33    93.15  4209.629090\n",
            "23 2025-06-15  17,191.64    13,910.35    93.19  4223.967784\n",
            "24 2025-06-22  17,238.56    13,963.05    93.24  4237.509468\n",
            "25 2025-06-29  17,294.72    14,015.23    93.28  4252.271188\n",
            "26 2025-07-06  17,350.32    14,064.51    93.32  4267.022800\n",
            "27 2025-07-13  17,402.84    14,118.22    93.37  4281.584612\n",
            "28 2025-07-20  17,460.08    14,171.90    93.41  4296.835245\n",
            "29 2025-07-27  17,517.29    14,224.89    93.46  4312.183585\n",
            "30 2025-08-03  17,573.76    14,280.39    93.50  4327.603802\n",
            "31 2025-08-10  17,632.90    14,336.24    93.55  4343.478117\n",
            "32 2025-08-17  17,692.42    14,392.36    93.60  4359.525385\n",
            "33 2025-08-24  17,752.22    14,450.12    93.65  4375.762828\n",
            "34 2025-08-31  17,813.78    14,508.52    93.70  4392.357034\n",
            "35 2025-09-07  17,876.01    14,567.60    93.75  4409.178102\n",
            "36 2025-09-14  17,938.97    14,627.99    93.80  4426.249617\n",
            "37 2025-09-21  18,003.32    14,689.20    93.85  4443.644577\n",
            "38 2025-09-28  18,068.56    14,751.32    93.90  4461.307578\n",
            "39 2025-10-05  18,134.76    14,814.62    93.96  4479.257338\n",
            "40 2025-10-12  18,202.21    14,878.90    94.01  4497.530545\n",
            "41 2025-10-19  18,270.71    14,944.22    94.07  4516.105110\n",
            "42 2025-10-26  18,340.32    15,010.71    94.12  4534.996008\n",
            "43 2025-11-02  18,411.18    15,078.30    94.18  4554.225327\n",
            "44 2025-11-09  18,483.21    15,147.05    94.24  4573.787077\n",
            "45 2025-11-16  18,556.47    15,217.02    94.30  4593.695483\n",
            "46 2025-11-23  18,631.04    15,288.21    94.36  4613.964770\n",
            "47 2025-11-30  18,706.90    15,360.65    94.42  4634.598310\n",
            "48 2025-12-07  18,784.10    15,434.41    94.48  4655.608828\n",
            "49 2025-12-14  18,862.70    15,509.50    94.55  4677.010552\n",
            "50 2025-12-21  18,942.72    15,585.95    94.61  4698.810219\n",
            "51 2025-12-28  19,024.20    15,663.83    94.68  4721.020557\n",
            "Prediksi disimpan dalam file CSV: 'tren_harga_tbs_2025.csv'\n"
          ]
        }
      ]
    },
    {
      "cell_type": "markdown",
      "metadata": {
        "id": "vetPH2YEDNj8"
      },
      "source": [
        "**Grafik Prediksi Harga TBS untuk Tahun 2025**"
      ]
    },
    {
      "cell_type": "code",
      "source": [
        "# Visualisasi prediksi Harga TBS\n",
        "plt.figure(figsize=(10, 6))\n",
        "# Changed future_df to df_future\n",
        "plt.plot(df_future.index, df_future['Harga_TBS'], label='Predicted Harga TBS', color='green')\n",
        "plt.title('Prediksi Harga TBS Tahun 2025')\n",
        "plt.xlabel('Minggu')\n",
        "plt.ylabel('Harga TBS')\n",
        "plt.legend()\n",
        "plt.tight_layout()\n",
        "plt.show()"
      ],
      "metadata": {
        "colab": {
          "base_uri": "https://localhost:8080/",
          "height": 607
        },
        "id": "W_Xmmfy3DI1V",
        "outputId": "633acf72-6b86-4d3e-e65b-bf05bdae8282"
      },
      "execution_count": null,
      "outputs": [
        {
          "output_type": "display_data",
          "data": {
            "text/plain": [
              "<Figure size 1000x600 with 1 Axes>"
            ],
            "image/png": "[encoded data removed]"
          },
          "metadata": {}
        }
      ]
    }
  ]
}